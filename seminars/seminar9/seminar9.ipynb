{
 "cells": [
  {
   "cell_type": "markdown",
   "metadata": {
    "slideshow": {
     "slide_type": "slide"
    }
   },
   "source": [
    "# Семинар 9\n",
    "\n",
    "# Введение в итерационные методы"
   ]
  },
  {
   "cell_type": "markdown",
   "metadata": {
    "slideshow": {
     "slide_type": "slide"
    }
   },
   "source": [
    "## Оптимальный шаг в методе Ричардсона\n",
    "\n",
    "- Решение линейной системы \n",
    "\n",
    "$$ Ax = b $$\n",
    "\n",
    "- Метод Ричардсона \n",
    "\n",
    "$$ x_{k+1} = x_k - \\tau (Ax_k - b) = (I - \\tau A)x_k + \\tau b$$\n",
    "\n",
    "- Оптимальный $\\tau$ для $A = A^* \\succ 0$\n",
    "\n",
    "$$ \\tau^* = \\frac{2}{\\lambda_{\\max} + \\lambda_{\\min}} $$"
   ]
  },
  {
   "cell_type": "markdown",
   "metadata": {
    "slideshow": {
     "slide_type": "slide"
    }
   },
   "source": [
    "#### Как его получить?\n",
    "\n",
    "- Найдём минимум $\\| I - \\tau A \\|_2 = \\lambda_{\\max}(I - \\tau A) = \\max (|1 - \\tau \\lambda_{\\max}(A)|, |1 - \\tau \\lambda_{\\min} (A)|)$\n",
    "- Две \"v\" образные функции\n",
    "- Нарисуем функцию максимум от них\n",
    "- Минимум максимума – это точка в которое они равны!\n",
    "- $1 - \\tau^* \\lambda_{\\max}(A) = -1 + \\tau^* \\lambda_{\\min}(A)$\n",
    "- Получаем ответ!"
   ]
  },
  {
   "cell_type": "markdown",
   "metadata": {
    "slideshow": {
     "slide_type": "slide"
    }
   },
   "source": [
    "## Метод сопряжённых градиентов: напоминание\n",
    "\n",
    "- Главный метод решения большой разреженной линейной системы с симметричной положительно-определённой матрицей\n",
    "- Требует знания процедуры умножения матрицы на вектор\n",
    "- Чувствителен к кластеризации спектра – чем менее равномерен спектр, тем лучше сходимость"
   ]
  },
  {
   "cell_type": "code",
   "execution_count": 5,
   "metadata": {
    "slideshow": {
     "slide_type": "slide"
    }
   },
   "outputs": [
    {
     "name": "stdout",
     "output_type": "stream",
     "text": [
      "A is normal matrix: ||AA* - A*A|| = 0.0\n",
      "Condition number = 3974.134612416319\n"
     ]
    }
   ],
   "source": [
    "import numpy as np\n",
    "import matplotlib.pyplot as plt\n",
    "%matplotlib inline\n",
    "n = 1000\n",
    "\n",
    "\n",
    "# Random\n",
    "A = np.random.randn(n, n)\n",
    "mu = 1\n",
    "A = A.T.dot(A) + mu * np.eye(n)\n",
    "\n",
    "# Clustered eigenvalues\n",
    "# A = np.diagflat([np.ones(n//4), 10 * np.ones(n//4), 100*np.ones(n//4), 1000* np.ones(n//4)])\n",
    "# U = np.random.rand(n, n)\n",
    "# Q, _ = np.linalg.qr(U)\n",
    "# A = Q.dot(A).dot(Q.T)\n",
    "\n",
    "# A = (A + A.T) * 0.5\n",
    "print(\"A is normal matrix: ||AA* - A*A|| =\", np.linalg.norm(A.dot(A.T) - A.T.dot(A)))\n",
    "print(\"Condition number = {}\".format(np.linalg.cond(A)))\n",
    "\n",
    "b = np.random.randn(n)\n",
    "# _, eigvec = np.linalg.eigh(A)\n",
    "# b = eigvec[:, 0]\n",
    "\n",
    "\n",
    "# Hilbert matrix\n",
    "# A = np.array([[1.0 / (i+j - 1) for i in range(1, n+1)] for j in range(1, n+1)])\n",
    "# b = np.ones(n)"
   ]
  },
  {
   "cell_type": "code",
   "execution_count": 6,
   "metadata": {
    "scrolled": true,
    "slideshow": {
     "slide_type": "slide"
    }
   },
   "outputs": [
    {
     "data": {
      "image/png": "[encoded data removed]",
      "text/plain": [
       "<Figure size 432x288 with 1 Axes>"
      ]
     },
     "metadata": {
      "needs_background": "light"
     },
     "output_type": "display_data"
    }
   ],
   "source": [
    "eigs = np.linalg.eigvals(A)\n",
    "# print(eigs)\n",
    "plt.semilogy(np.unique(eigs))\n",
    "plt.ylabel(\"Eigenvalues\", fontsize=20)\n",
    "plt.xticks(fontsize=18)\n",
    "_ = plt.yticks(fontsize=18)"
   ]
  },
  {
   "cell_type": "code",
   "execution_count": 7,
   "metadata": {
    "slideshow": {
     "slide_type": "slide"
    }
   },
   "outputs": [
    {
     "name": "stdout",
     "output_type": "stream",
     "text": [
      "3.1039134111320533e-07\n",
      "0\n",
      "4.096102355984093e-12\n"
     ]
    }
   ],
   "source": [
    "import scipy.sparse.linalg as spsplin\n",
    "res_hist = []\n",
    "def callback(x):\n",
    "    res_hist.append(np.linalg.norm(A @ x - b) / np.linalg.norm(b))\n",
    "    \n",
    "x, info = spsplin.cg(A, b, maxiter=n, tol=1e-8, callback=callback)\n",
    "print(np.linalg.norm(A @ x - b))\n",
    "print(info)\n",
    "x_lu = np.linalg.solve(A, b)\n",
    "print(np.linalg.norm(A @ x_lu - b))\n",
    "\n",
    "# %timeit spsplin.cg(A, b, maxiter=n, tol=1e-10)\n",
    "# %timeit np.linalg.solve(A, b)"
   ]
  },
  {
   "cell_type": "code",
   "execution_count": 8,
   "metadata": {
    "scrolled": true,
    "slideshow": {
     "slide_type": "slide"
    }
   },
   "outputs": [
    {
     "name": "stdout",
     "output_type": "stream",
     "text": [
      "568\n"
     ]
    },
    {
     "data": {
      "image/png": "[encoded data removed]",
      "text/plain": [
       "<Figure size 432x288 with 1 Axes>"
      ]
     },
     "metadata": {
      "needs_background": "light"
     },
     "output_type": "display_data"
    }
   ],
   "source": [
    "plt.semilogy(res_hist)\n",
    "print(len(res_hist))"
   ]
  },
  {
   "cell_type": "markdown",
   "metadata": {
    "slideshow": {
     "slide_type": "slide"
    }
   },
   "source": [
    "## Регуляризация задачи наименьших квадратов\n",
    "\n",
    "$$ \\| Ax - b \\|_2^2 + \\lambda \\|x\\|_2^2 \\to \\min_x $$ \n",
    "\n",
    "- Решение записывается аналогично\n",
    "\n",
    "$$ (A^{\\top}A + \\lambda I)x = A^{\\top}b $$\n",
    "\n",
    "- Каким свойством теперь обладает матрица по сравнению с исходной постановкой без регуляризации?"
   ]
  },
  {
   "cell_type": "code",
   "execution_count": 107,
   "metadata": {
    "slideshow": {
     "slide_type": "slide"
    }
   },
   "outputs": [],
   "source": [
    "m, n = 1000, 100\n",
    "A = np.random.randn(m, n)\n",
    "x_true = np.random.randn(n)\n",
    "b = A @ x_true + 0.01 * np.random.randn(m)"
   ]
  },
  {
   "cell_type": "code",
   "execution_count": 108,
   "metadata": {
    "slideshow": {
     "slide_type": "slide"
    }
   },
   "outputs": [
    {
     "name": "stdout",
     "output_type": "stream",
     "text": [
      "99.93691827234433\n"
     ]
    }
   ],
   "source": [
    "lam = 1\n",
    "x = spsplin.lsmr(A, b, damp=lam)[0]\n",
    "print(np.linalg.norm(A @ x - b)**2 + lam * np.linalg.norm(x)**2)"
   ]
  },
  {
   "cell_type": "code",
   "execution_count": 109,
   "metadata": {
    "slideshow": {
     "slide_type": "slide"
    }
   },
   "outputs": [
    {
     "name": "stdout",
     "output_type": "stream",
     "text": [
      "99.93692851337067\n"
     ]
    }
   ],
   "source": [
    "lin_op = spsplin.LinearOperator((n, n), \n",
    "        matvec=lambda x: lam * x + A.T @ (A @ x))\n",
    "\n",
    "rhs = A.T @ b \n",
    "res_hist = []\n",
    "def callback(x):\n",
    "    res_hist.append(np.linalg.norm(A.T @ (A @ x) + lam * x - rhs) / np.linalg.norm(rhs))\n",
    "    \n",
    "x_cg, _ = spsplin.cg(lin_op, rhs, callback=callback)\n",
    "print(np.linalg.norm(A @ x_cg - b)**2 + lam * np.linalg.norm(x_cg)**2)"
   ]
  },
  {
   "cell_type": "code",
   "execution_count": 110,
   "metadata": {
    "slideshow": {
     "slide_type": "slide"
    }
   },
   "outputs": [
    {
     "data": {
      "text/plain": [
       "[<matplotlib.lines.Line2D at 0x7fe78a9b12d0>]"
      ]
     },
     "execution_count": 110,
     "metadata": {},
     "output_type": "execute_result"
    },
    {
     "data": {
      "image/png": "[encoded data removed]",
      "text/plain": [
       "<Figure size 432x288 with 1 Axes>"
      ]
     },
     "metadata": {
      "needs_background": "light"
     },
     "output_type": "display_data"
    }
   ],
   "source": [
    "plt.semilogy(res_hist)"
   ]
  }
 ],
 "metadata": {
  "celltoolbar": "Slideshow",
  "kernelspec": {
   "display_name": "Python 3",
   "language": "python",
   "name": "python3"
  },
  "language_info": {
   "codemirror_mode": {
    "name": "ipython",
    "version": 3
   },
   "file_extension": ".py",
   "mimetype": "text/x-python",
   "name": "python",
   "nbconvert_exporter": "python",
   "pygments_lexer": "ipython3",
   "version": "3.7.7"
  }
 },
 "nbformat": 4,
 "nbformat_minor": 2
}
