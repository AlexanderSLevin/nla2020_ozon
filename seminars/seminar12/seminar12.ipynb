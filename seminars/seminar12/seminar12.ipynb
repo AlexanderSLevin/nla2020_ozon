{
 "cells": [
  {
   "cell_type": "markdown",
   "metadata": {
    "slideshow": {
     "slide_type": "slide"
    }
   },
   "source": [
    "# Семинар 12"
   ]
  },
  {
   "cell_type": "markdown",
   "metadata": {
    "slideshow": {
     "slide_type": "slide"
    }
   },
   "source": [
    "- Матрица $A$ - Тёплицева\n",
    "- Получим выражение для предобуславливателя Чена\n",
    "\n",
    "$$ \\min_C \\| A - C \\|^2_F $$\n",
    "\n",
    "- Ответ\n",
    " \n",
    "$$ c_j = \\frac{j t_{j-n} + (n-j)t_j}{n}, \\quad j = 1, \\ldots (n-1) $$"
   ]
  },
  {
   "cell_type": "markdown",
   "metadata": {
    "slideshow": {
     "slide_type": "slide"
    }
   },
   "source": [
    "## Сравним эффективность для GMRES"
   ]
  },
  {
   "cell_type": "code",
   "execution_count": 23,
   "metadata": {
    "slideshow": {
     "slide_type": "slide"
    }
   },
   "outputs": [
    {
     "name": "stdout",
     "output_type": "stream",
     "text": [
      "[[0.39568413 0.96278595 0.72963643 ... 0.1769474  0.21194478 0.49858633]\n",
      " [0.09538572 0.39568413 0.96278595 ... 0.61093272 0.1769474  0.21194478]\n",
      " [0.96021773 0.09538572 0.39568413 ... 0.55166262 0.61093272 0.1769474 ]\n",
      " ...\n",
      " [0.79067021 0.25473918 0.46181897 ... 0.39568413 0.96278595 0.72963643]\n",
      " [0.61149316 0.79067021 0.25473918 ... 0.09538572 0.39568413 0.96278595]\n",
      " [0.47430987 0.61149316 0.79067021 ... 0.96021773 0.09538572 0.39568413]]\n"
     ]
    }
   ],
   "source": [
    "import numpy as np\n",
    "import scipy.linalg as splin\n",
    "\n",
    "n = 50\n",
    "col = np.random.rand(n)\n",
    "row = np.random.rand(n)\n",
    "T = splin.toeplitz(col, row)\n",
    "print(T)\n",
    "c_col = np.hstack((col, row[1:][::-1]))\n",
    "# print(col, c_col)\n",
    "\n",
    "def toeplitz_matvec(x):\n",
    "    n = x.shape[0]\n",
    "    y = np.zeros(2*n - 1)\n",
    "    y[:n] = x.copy()\n",
    "    z = np.fft.ifft(np.fft.fft(c_col) * np.fft.fft(y))\n",
    "    return z[:n].real"
   ]
  },
  {
   "cell_type": "code",
   "execution_count": 24,
   "metadata": {
    "slideshow": {
     "slide_type": "slide"
    }
   },
   "outputs": [
    {
     "name": "stdout",
     "output_type": "stream",
     "text": [
      "6.489835850066627e-15\n",
      "[ 2.53983889e+01+0.j         -2.55370087e+00+2.67502518j\n",
      " -2.55370087e+00-2.67502518j  3.19072318e+00+0.66659689j\n",
      "  3.19072318e+00-0.66659689j -2.79187162e+00+0.67890586j\n",
      " -2.79187162e+00-0.67890586j  1.11785701e+00+2.63281617j\n",
      "  1.11785701e+00-2.63281617j  7.67757558e-01+2.37963729j\n",
      "  7.67757558e-01-2.37963729j  1.75858623e+00+0.65644043j\n",
      "  1.75858623e+00-0.65644043j  4.49279999e-01+2.26964058j\n",
      "  4.49279999e-01-2.26964058j  5.22879621e-01+1.97861517j\n",
      "  5.22879621e-01-1.97861517j -1.57651655e+00+1.30292578j\n",
      " -1.57651655e+00-1.30292578j -6.36759301e-02+2.05645749j\n",
      " -6.36759301e-02-2.05645749j  1.40502499e+00+0.j\n",
      "  6.02645321e-02+1.87194698j  6.02645321e-02-1.87194698j\n",
      "  5.62271253e-01+1.28759999j  5.62271253e-01-1.28759999j\n",
      "  8.80550083e-01+0.j         -1.27742051e+00+0.36793471j\n",
      " -1.27742051e+00-0.36793471j -6.44845207e-01+1.30464924j\n",
      " -6.44845207e-01-1.30464924j -5.33032778e-01+1.29199104j\n",
      " -5.33032778e-01-1.29199104j -5.96099137e-01+1.20444269j\n",
      " -5.96099137e-01-1.20444269j -8.47828010e-01+0.90303311j\n",
      " -8.47828010e-01-0.90303311j -9.90483732e-01+0.48767565j\n",
      " -9.90483732e-01-0.48767565j -6.27332897e-01+0.93683457j\n",
      " -6.27332897e-01-0.93683457j -1.24872504e-01+0.87199476j\n",
      " -1.24872504e-01-0.87199476j  1.74517517e-02+0.67602256j\n",
      "  1.74517517e-02-0.67602256j  3.44160251e-01+0.19702194j\n",
      "  3.44160251e-01-0.19702194j  2.59799100e-01+0.j\n",
      " -2.43329872e-01+0.41623506j -2.43329872e-01-0.41623506j]\n",
      "270.68784708207136\n"
     ]
    }
   ],
   "source": [
    "x = np.random.randn(n)\n",
    "print(np.linalg.norm(T @ x - toeplitz_matvec(x)))\n",
    "print(np.linalg.eigvals(T))\n",
    "print(np.linalg.cond(T))"
   ]
  },
  {
   "cell_type": "code",
   "execution_count": 25,
   "metadata": {
    "slideshow": {
     "slide_type": "slide"
    }
   },
   "outputs": [
    {
     "data": {
      "text/plain": [
       "[<matplotlib.lines.Line2D at 0x7fd11b384390>]"
      ]
     },
     "execution_count": 25,
     "metadata": {},
     "output_type": "execute_result"
    },
    {
     "data": {
      "image/png": "[encoded data removed]",
      "text/plain": [
       "<Figure size 432x288 with 1 Axes>"
      ]
     },
     "metadata": {
      "needs_background": "light"
     },
     "output_type": "display_data"
    }
   ],
   "source": [
    "import scipy.sparse.linalg as spsplin\n",
    "import matplotlib.pyplot as plt\n",
    "%matplotlib inline\n",
    "gmres_conv = []\n",
    "def callback_gm(r):\n",
    "    gmres_conv.append(r.copy())\n",
    "    \n",
    "A = spsplin.LinearOperator((n, n), matvec=lambda x: toeplitz_matvec(x))\n",
    "b = np.random.randn(n)\n",
    "x, _ = spsplin.gmres(A, b, callback=callback_gm, restart=30)\n",
    "# print(x)\n",
    "plt.semilogy(gmres_conv)"
   ]
  },
  {
   "cell_type": "code",
   "execution_count": 26,
   "metadata": {
    "slideshow": {
     "slide_type": "slide"
    }
   },
   "outputs": [
    {
     "name": "stdout",
     "output_type": "stream",
     "text": [
      "2.8443103827005505\n"
     ]
    }
   ],
   "source": [
    "print(np.linalg.norm(A @ x - b))"
   ]
  },
  {
   "cell_type": "code",
   "execution_count": 27,
   "metadata": {
    "slideshow": {
     "slide_type": "slide"
    }
   },
   "outputs": [
    {
     "name": "stdout",
     "output_type": "stream",
     "text": [
      "[-1.04820677 -0.63560087 -3.70541897 -3.41325696  2.00989082  2.05944334\n",
      "  4.91980524 -0.33212047 -0.99295238 -1.84938117 -2.50972264  1.40534706\n",
      " -0.24779846 -0.92746156  1.16660594 -0.39192077  3.22338252  1.51545902\n",
      "  0.21553717  2.82722777 -2.23599699 -2.87414429  1.52805474 -0.72683542\n",
      " -1.82629288 -1.97517266 -1.65934741 -0.18457326 -2.68128855 -0.0221937\n",
      " -1.48376547 -1.15797607  1.41494364  1.98673782  2.77582165  4.50706086\n",
      "  2.58367291 -0.14610836  2.38655038  2.79422102  0.74415127  0.71737322\n",
      " -0.98971612 -2.65335633  1.10459286  1.90433671  0.78117711 -0.57174778\n",
      " -1.65662681 -6.98955142]\n"
     ]
    },
    {
     "data": {
      "text/plain": [
       "<matplotlib.legend.Legend at 0x7fd11b69d890>"
      ]
     },
     "execution_count": 27,
     "metadata": {},
     "output_type": "execute_result"
    },
    {
     "data": {
      "image/png": "[encoded data removed]",
      "text/plain": [
       "<Figure size 432x288 with 1 Axes>"
      ]
     },
     "metadata": {
      "needs_background": "light"
     },
     "output_type": "display_data"
    }
   ],
   "source": [
    "# Introduce preconditioner\n",
    "\n",
    "M = spsplin.LinearOperator((n, n), matvec=lambda x: \\\n",
    "                   (np.fft.ifft(np.fft.fft(x) / np.fft.fft(col))).real)\n",
    "\n",
    "gmres_prec_conv = []\n",
    "def callback_gm(r):\n",
    "    gmres_prec_conv.append(r.copy())\n",
    "    \n",
    "A = spsplin.LinearOperator((n, n), matvec=lambda x: toeplitz_matvec(x))\n",
    "x, _ = spsplin.gmres(A, b, callback=callback_gm, M=M, restart=30)\n",
    "print(x)\n",
    "plt.semilogy(gmres_prec_conv, label=\"Strang prec\")\n",
    "plt.semilogy(gmres_conv, label=\"No prec\")\n",
    "plt.legend()"
   ]
  },
  {
   "cell_type": "code",
   "execution_count": 28,
   "metadata": {
    "slideshow": {
     "slide_type": "slide"
    }
   },
   "outputs": [
    {
     "name": "stdout",
     "output_type": "stream",
     "text": [
      "[0.39568413 0.09538572 0.96021773 0.12144614 0.99556753 0.04903704\n",
      " 0.59691247 0.41886276 0.77575986 0.09217605 0.72868197 0.22596515\n",
      " 0.28957289 0.44890673 0.60297301 0.1095856  0.05760411 0.23002542\n",
      " 0.30994299 0.71703703 0.15230727 0.26533724 0.54538471 0.08766452\n",
      " 0.2561729  0.65795208 0.9398771  0.66983834 0.66412431 0.23306838\n",
      " 0.57042876 0.82247733 0.19608556 0.89202483 0.68862678 0.51829186\n",
      " 0.10229695 0.2689416  0.11242577 0.64163179 0.18306435 0.8260446\n",
      " 0.7679874  0.56861158 0.44880472 0.46181897 0.25473918 0.79067021\n",
      " 0.61149316 0.47430987]\n",
      "[-1.15737622 -0.48729319 -3.72933869 -3.88834345  2.02966123  2.20819921\n",
      "  5.32348825 -0.30724724 -1.23077363 -2.18529506 -3.04327114  1.64114506\n",
      "  0.11350814 -1.05303622  1.45363247 -0.30614741  3.32158191  1.7280891\n",
      "  0.23284261  2.97801372 -2.50552386 -3.18606162  1.54895551 -0.83853381\n",
      " -1.85429499 -1.97401083 -1.89635113 -0.02433454 -2.77944058 -0.12452935\n",
      " -1.41578649 -1.38566055  1.38907345  2.11829655  2.95420808  4.833359\n",
      "  2.81425181 -0.1771203   2.33103236  3.05370185  1.12151809  0.71624641\n",
      " -1.03993249 -2.94858488  1.09932509  2.20705489  1.02184658 -0.7687628\n",
      " -1.8240566  -7.53726386]\n"
     ]
    },
    {
     "data": {
      "text/plain": [
       "<matplotlib.legend.Legend at 0x7fd11b92eed0>"
      ]
     },
     "execution_count": 28,
     "metadata": {},
     "output_type": "execute_result"
    },
    {
     "data": {
      "image/png": "[encoded data removed]",
      "text/plain": [
       "<Figure size 432x288 with 1 Axes>"
      ]
     },
     "metadata": {
      "needs_background": "light"
     },
     "output_type": "display_data"
    }
   ],
   "source": [
    "print(col)\n",
    "chan_prec_col = (col * (n - np.arange(n)) + \n",
    "                 np.arange(n) * np.hstack((0, col[::-1][:-1]))) / n\n",
    "\n",
    "M_chan = spsplin.LinearOperator((n, n), matvec=lambda x: \\\n",
    "        np.fft.ifft(np.fft.fft(x) / np.fft.fft(chan_prec_col)).real)\n",
    "\n",
    "gmres_prec_chan_conv = []\n",
    "def callback_gm(r):\n",
    "    gmres_prec_chan_conv.append(r.copy())\n",
    "    \n",
    "A = spsplin.LinearOperator((n, n), matvec=lambda x: toeplitz_matvec(x))\n",
    "x, _ = spsplin.gmres(A, b, callback=callback_gm, M=M_chan, restart=30)\n",
    "print(x)\n",
    "plt.semilogy(gmres_prec_conv, label=\"Strang prec\")\n",
    "plt.semilogy(gmres_conv, label=\"No prec\")\n",
    "plt.semilogy(gmres_prec_chan_conv, label=\"Chan prec\")\n",
    "plt.legend()"
   ]
  }
 ],
 "metadata": {
  "celltoolbar": "Slideshow",
  "kernelspec": {
   "display_name": "Python 3",
   "language": "python",
   "name": "python3"
  },
  "language_info": {
   "codemirror_mode": {
    "name": "ipython",
    "version": 3
   },
   "file_extension": ".py",
   "mimetype": "text/x-python",
   "name": "python",
   "nbconvert_exporter": "python",
   "pygments_lexer": "ipython3",
   "version": "3.7.7"
  }
 },
 "nbformat": 4,
 "nbformat_minor": 2
}
