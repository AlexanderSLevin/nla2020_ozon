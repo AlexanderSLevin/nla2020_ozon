{
 "cells": [
  {
   "cell_type": "markdown",
   "metadata": {
    "slideshow": {
     "slide_type": ""
    }
   },
   "source": [
    "# Семинар 7\n",
    "\n",
    "##  Сдвиги для ускорения методов вычисления собственных значений"
   ]
  },
  {
   "cell_type": "markdown",
   "metadata": {
    "slideshow": {
     "slide_type": "slide"
    }
   },
   "source": [
    "## Степенной метод: напоминание\n",
    "\n",
    "- Задача поиска максимального по модулю собственного значения\n",
    "- Сходимость линейная, коэффициент $\\frac{|\\lambda_2|}{|\\lambda_1|}$\n",
    "- Может не сходиться. В каком случае?\n",
    "- Сложность пропорциональна сложности умножения матрицы на вектор"
   ]
  },
  {
   "cell_type": "markdown",
   "metadata": {
    "slideshow": {
     "slide_type": "slide"
    }
   },
   "source": [
    "## Сдвиги для ускорения сходимости степенного метода\n",
    "\n",
    "- Метод обратной итерации со сдвигами\n",
    "\n",
    "\\begin{align*}\n",
    "& x_{k+1} = (A - \\sigma I)^{-1} x_k\\\\\n",
    "& x_{k+1} := \\frac{x_{k+1}}{\\|x_{k+1}\\|}\n",
    "\\end{align*}\n",
    "\n",
    "- Куда сойдётся?"
   ]
  },
  {
   "cell_type": "code",
   "execution_count": 3,
   "metadata": {
    "slideshow": {
     "slide_type": "slide"
    }
   },
   "outputs": [],
   "source": [
    "import numpy as np\n",
    "import matplotlib.pyplot as plt\n",
    "%matplotlib inline\n",
    "import scipy.linalg as splin\n",
    "\n",
    "def shift_inverse_iteration(A, x0, num_iter, shift=0.):\n",
    "    x = x0.copy()\n",
    "    conv = [x]\n",
    "    for i in range(num_iter):\n",
    "        x = np.linalg.solve(A - shift * np.eye(n), x)\n",
    "        x = x / np.linalg.norm(x)\n",
    "        conv.append(x)\n",
    "    return x, conv\n",
    "\n",
    "def shift_inverse_iteration_fast(A, x0, num_iter, shift=0.):\n",
    "    x = x0.copy()\n",
    "    conv = [x]\n",
    "    lu_factor = splin.lu_factor(A - shift * np.eye(n))\n",
    "    for i in range(num_iter):\n",
    "        x = splin.lu_solve(lu_factor, x)\n",
    "        x = x / np.linalg.norm(x)\n",
    "        conv.append(x)\n",
    "    return x, conv"
   ]
  },
  {
   "cell_type": "code",
   "execution_count": 6,
   "metadata": {
    "slideshow": {
     "slide_type": "slide"
    }
   },
   "outputs": [
    {
     "name": "stdout",
     "output_type": "stream",
     "text": [
      "[ 1.09858752  1.54131488  3.96384717  5.36111159  7.7924315   9.14735987\n",
      " 11.06975054 14.57843833 20.64134629 27.95647162]\n"
     ]
    }
   ],
   "source": [
    "n = 10\n",
    "A = np.random.randn(n, n)\n",
    "A = A.T @ A + np.eye(n)\n",
    "# A = A + A.T\n",
    "true_spectrum = np.linalg.eigvals(A)\n",
    "print(np.sort(true_spectrum))\n",
    "x0 = np.random.randn(n)\n",
    "num_iter = 40"
   ]
  },
  {
   "cell_type": "code",
   "execution_count": 11,
   "metadata": {
    "slideshow": {
     "slide_type": "slide"
    }
   },
   "outputs": [
    {
     "name": "stdout",
     "output_type": "stream",
     "text": [
      "1.08 ms ± 26.6 µs per loop (mean ± std. dev. of 7 runs, 1000 loops each)\n",
      "712 µs ± 8.35 µs per loop (mean ± std. dev. of 7 runs, 1000 loops each)\n"
     ]
    }
   ],
   "source": [
    "# smallest_eigv, conv_sm = shift_inverse_iteration(A, x0, num_iter)\n",
    "# print(smallest_eigv @ A @ smallest_eigv)\n",
    "# smallest_eigv, conv_sm = shift_inverse_iteration_fast(A, x0, num_iter)\n",
    "# print(smallest_eigv @ A @ smallest_eigv)\n",
    "\n",
    "%timeit shift_inverse_iteration(A, x0, num_iter)\n",
    "%timeit shift_inverse_iteration_fast(A, x0, num_iter)"
   ]
  },
  {
   "cell_type": "code",
   "execution_count": 10,
   "metadata": {
    "slideshow": {
     "slide_type": "slide"
    }
   },
   "outputs": [
    {
     "data": {
      "text/plain": [
       "[<matplotlib.lines.Line2D at 0x7fe2adfcec90>]"
      ]
     },
     "execution_count": 10,
     "metadata": {},
     "output_type": "execute_result"
    },
    {
     "data": {
      "image/png": "[encoded data removed]",
      "text/plain": [
       "<Figure size 432x288 with 1 Axes>"
      ]
     },
     "metadata": {
      "needs_background": "light"
     },
     "output_type": "display_data"
    }
   ],
   "source": [
    "plt.semilogy([np.linalg.norm(A @ x - (x @ A @ x) * x) for x in conv_sm])"
   ]
  },
  {
   "cell_type": "code",
   "execution_count": 14,
   "metadata": {
    "slideshow": {
     "slide_type": "slide"
    }
   },
   "outputs": [
    {
     "name": "stdout",
     "output_type": "stream",
     "text": [
      "3.963847169411486\n"
     ]
    }
   ],
   "source": [
    "shift = 3.5\n",
    "middle_eigv, conv_m = shift_inverse_iteration(A, x0, num_iter, shift)\n",
    "print(middle_eigv @ A @ middle_eigv)"
   ]
  },
  {
   "cell_type": "code",
   "execution_count": 15,
   "metadata": {
    "slideshow": {
     "slide_type": "slide"
    }
   },
   "outputs": [
    {
     "data": {
      "text/plain": [
       "[<matplotlib.lines.Line2D at 0x7fe2b02b6050>]"
      ]
     },
     "execution_count": 15,
     "metadata": {},
     "output_type": "execute_result"
    },
    {
     "data": {
      "image/png": "[encoded data removed]",
      "text/plain": [
       "<Figure size 432x288 with 1 Axes>"
      ]
     },
     "metadata": {
      "needs_background": "light"
     },
     "output_type": "display_data"
    }
   ],
   "source": [
    "plt.semilogy([np.linalg.norm(A @ x - (x @ A @ x) * x) for x in conv_m])"
   ]
  },
  {
   "cell_type": "code",
   "execution_count": 31,
   "metadata": {
    "slideshow": {
     "slide_type": "slide"
    }
   },
   "outputs": [
    {
     "name": "stdout",
     "output_type": "stream",
     "text": [
      "3.963847169411486\n"
     ]
    }
   ],
   "source": [
    "shift = 3.5\n",
    "large_eigv, conv_l = shift_inverse_iteration(A, x0, num_iter, shift)\n",
    "print(large_eigv @ A @ large_eigv)"
   ]
  },
  {
   "cell_type": "code",
   "execution_count": 32,
   "metadata": {
    "slideshow": {
     "slide_type": "slide"
    }
   },
   "outputs": [
    {
     "data": {
      "text/plain": [
       "[<matplotlib.lines.Line2D at 0x7fe2aff27650>]"
      ]
     },
     "execution_count": 32,
     "metadata": {},
     "output_type": "execute_result"
    },
    {
     "data": {
      "image/png": "[encoded data removed]",
      "text/plain": [
       "<Figure size 432x288 with 1 Axes>"
      ]
     },
     "metadata": {
      "needs_background": "light"
     },
     "output_type": "display_data"
    }
   ],
   "source": [
    "res = np.array([np.linalg.norm(A @ x - (x @ A @ x) * x) for x in conv_l])\n",
    "plt.semilogy(res)"
   ]
  },
  {
   "cell_type": "markdown",
   "metadata": {
    "slideshow": {
     "slide_type": "slide"
    }
   },
   "source": [
    "## Метод Релея\n",
    "\n",
    "- Адаптивный сдвиг на каждой итерации\n",
    "\n",
    "$$ \\sigma_k = \\frac{(Ax_k, x_k)}{(x_k, x_k)} $$"
   ]
  },
  {
   "cell_type": "code",
   "execution_count": 27,
   "metadata": {
    "slideshow": {
     "slide_type": "slide"
    }
   },
   "outputs": [],
   "source": [
    "def rayleigh_quotient_iteration(A, x0, num_iter, shift):\n",
    "    x = x0.copy()\n",
    "    x = x / np.linalg.norm(x)\n",
    "    conv = [x]\n",
    "    \n",
    "    for i in range(3):\n",
    "        x = np.linalg.solve(A - shift * np.eye(n), x)\n",
    "        x = x / np.linalg.norm(x)\n",
    "        conv.append(x)\n",
    "        \n",
    "    for i in range(num_iter):\n",
    "        lam = x @ A @ x\n",
    "        x = np.linalg.solve(A - lam * np.eye(n), x)\n",
    "        x = x / np.linalg.norm(x)\n",
    "        conv.append(x)\n",
    "    return x, conv"
   ]
  },
  {
   "cell_type": "code",
   "execution_count": 33,
   "metadata": {
    "slideshow": {
     "slide_type": "slide"
    }
   },
   "outputs": [],
   "source": [
    "eigv_rq, conv_rq = rayleigh_quotient_iteration(A, x0, num_iter, 3.5)"
   ]
  },
  {
   "cell_type": "code",
   "execution_count": 34,
   "metadata": {
    "slideshow": {
     "slide_type": "slide"
    }
   },
   "outputs": [
    {
     "name": "stdout",
     "output_type": "stream",
     "text": [
      "3.9638471694114843\n",
      "[ 1.09858752  1.54131488  3.96384717  5.36111159  7.7924315   9.14735987\n",
      " 11.06975054 14.57843833 20.64134629 27.95647162]\n",
      "[ 0.17442873  0.88777797 -0.27331819 -1.31931679  0.28867975 -0.77379147\n",
      " -0.52759933  1.29583252 -0.57559836 -0.71427372]\n"
     ]
    }
   ],
   "source": [
    "print(eigv_rq @ A @ eigv_rq)\n",
    "print(np.sort(np.linalg.eigvals(A)))\n",
    "print(x0)"
   ]
  },
  {
   "cell_type": "code",
   "execution_count": 35,
   "metadata": {
    "slideshow": {
     "slide_type": "slide"
    }
   },
   "outputs": [
    {
     "name": "stdout",
     "output_type": "stream",
     "text": [
      "[7.02389224e+00 4.08161227e+00 7.98454137e-01 1.67428273e-01\n",
      " 5.59471291e-04 1.22478130e-11 1.53134330e-15 3.25166963e-15\n",
      " 1.64415184e-15 1.23784889e-15 2.05990506e-15 1.64415184e-15\n",
      " 1.23784889e-15 2.05990506e-15 1.64415184e-15 1.23784889e-15\n",
      " 2.05990506e-15 1.64415184e-15 1.23784889e-15 2.05990506e-15\n",
      " 1.64415184e-15 1.23784889e-15 2.05990506e-15 1.64415184e-15\n",
      " 1.23784889e-15 2.05990506e-15 1.64415184e-15 1.23784889e-15\n",
      " 2.05990506e-15 1.64415184e-15 1.23784889e-15 2.05990506e-15\n",
      " 1.64415184e-15 1.23784889e-15 2.05990506e-15 1.64415184e-15\n",
      " 1.23784889e-15 2.05990506e-15 1.64415184e-15 1.23784889e-15\n",
      " 2.05990506e-15 1.64415184e-15 1.23784889e-15 2.05990506e-15]\n"
     ]
    },
    {
     "data": {
      "image/png": "[encoded data removed]",
      "text/plain": [
       "<Figure size 432x288 with 1 Axes>"
      ]
     },
     "metadata": {
      "needs_background": "light"
     },
     "output_type": "display_data"
    }
   ],
   "source": [
    "res = np.array([np.linalg.norm(A @ x - (x @ A @ x) * x) for x in conv_rq])\n",
    "plt.semilogy(res, label=\"RQ\")\n",
    "plt.semilogy([np.linalg.norm(A @ x - (x @ A @ x) * x) for x in conv_l], label=\"Shift iter\")\n",
    "plt.legend()\n",
    "print(res)"
   ]
  },
  {
   "cell_type": "markdown",
   "metadata": {
    "slideshow": {
     "slide_type": "slide"
    }
   },
   "source": [
    "## Как найти другие собственные значения?\n",
    "\n"
   ]
  },
  {
   "cell_type": "code",
   "execution_count": 36,
   "metadata": {
    "slideshow": {
     "slide_type": "slide"
    }
   },
   "outputs": [
    {
     "name": "stdout",
     "output_type": "stream",
     "text": [
      "[-3.87532365e-15  1.09858752e+00  1.54131488e+00  5.36111159e+00\n",
      "  7.79243150e+00  9.14735987e+00  1.10697505e+01  1.45784383e+01\n",
      "  2.06413463e+01  2.79564716e+01]\n"
     ]
    }
   ],
   "source": [
    "B = A - eigv_rq @ (A @ eigv_rq) * np.outer(eigv_rq, eigv_rq)\n",
    "print(np.sort(np.linalg.eigvals(B)))"
   ]
  },
  {
   "cell_type": "code",
   "execution_count": 37,
   "metadata": {
    "slideshow": {
     "slide_type": "slide"
    }
   },
   "outputs": [
    {
     "name": "stdout",
     "output_type": "stream",
     "text": [
      "1.5413148787575306\n"
     ]
    }
   ],
   "source": [
    "eigv_rq_B, conv_rq_B = rayleigh_quotient_iteration(B, x0, num_iter, 3.5)\n",
    "print(eigv_rq_B @ B @ eigv_rq_B)"
   ]
  },
  {
   "cell_type": "code",
   "execution_count": 38,
   "metadata": {
    "slideshow": {
     "slide_type": "slide"
    }
   },
   "outputs": [
    {
     "name": "stdout",
     "output_type": "stream",
     "text": [
      "[4.51611674e-16 1.44648977e-15 1.09858752e+00 5.36111159e+00\n",
      " 7.79243150e+00 9.14735987e+00 1.10697505e+01 1.45784383e+01\n",
      " 2.06413463e+01 2.79564716e+01]\n"
     ]
    }
   ],
   "source": [
    "C = B - eigv_rq_B @ (A @ eigv_rq_B) * np.outer(eigv_rq_B, eigv_rq_B)\n",
    "print(np.sort(np.linalg.eigvals(C)))"
   ]
  },
  {
   "cell_type": "code",
   "execution_count": 40,
   "metadata": {
    "slideshow": {
     "slide_type": "slide"
    }
   },
   "outputs": [
    {
     "name": "stdout",
     "output_type": "stream",
     "text": [
      "1.0985875209751008\n"
     ]
    }
   ],
   "source": [
    "eigv_rq_C, conv_rq_C = rayleigh_quotient_iteration(C, x0, num_iter, 1)\n",
    "print(eigv_rq_C @ C @ eigv_rq_C)"
   ]
  },
  {
   "cell_type": "markdown",
   "metadata": {
    "slideshow": {
     "slide_type": "slide"
    }
   },
   "source": [
    "### И так далее для других собственных векторов....\n",
    "\n",
    "- Какая правильная стратегия использования метода Релея?"
   ]
  },
  {
   "cell_type": "markdown",
   "metadata": {
    "slideshow": {
     "slide_type": "slide"
    }
   },
   "source": [
    "## Матричные функции: введение"
   ]
  },
  {
   "cell_type": "markdown",
   "metadata": {
    "slideshow": {
     "slide_type": "fragment"
    }
   },
   "source": [
    "\n",
    "$$ B = f(A) = \\sum_{k=0}^{\\infty} c_k A^k$$\n",
    "\n",
    "- Это не поэлементная функция\n",
    "- Нужно уметь вычислять ряд\n",
    "- Устойчивость"
   ]
  },
  {
   "cell_type": "markdown",
   "metadata": {
    "slideshow": {
     "slide_type": "slide"
    }
   },
   "source": [
    "## Вычисление степени матрицы\n",
    "\n",
    "- Дана матрица $A$\n",
    "- Нужно вычислить $A^k$\n",
    "- Это необходимо при вычисление матричных функций, которые представляются в виде матричного ряда"
   ]
  },
  {
   "cell_type": "markdown",
   "metadata": {
    "slideshow": {
     "slide_type": "slide"
    }
   },
   "source": [
    "### Используем спектральное разложение\n",
    "\n",
    "- $A = U\\Lambda U^{-1}$\n",
    "- Тогда $A^k = U \\Lambda^k U^{-1}$"
   ]
  },
  {
   "cell_type": "markdown",
   "metadata": {
    "slideshow": {
     "slide_type": "slide"
    }
   },
   "source": [
    "### Матричная экспонента: знакомство или напоминание\n",
    "\n",
    "$$\\exp(A) = \\sum_{k=0}^{\\infty} \\frac{A^k}{k!} $$\n",
    "\n",
    "- Про матричные функции будет отдельное занятие!\n",
    "- Важно! Чаще нужно не само значение матричной экспоненты, а результат её умножения на некоторый вектор $v$: \n",
    "\n",
    "$$ \\exp(A)v $$\n",
    "\n",
    "- Это позволяет разработать быстрые методы для вычисления произведения, не считая саму матричную экспоненту!"
   ]
  },
  {
   "cell_type": "code",
   "execution_count": 1,
   "metadata": {
    "slideshow": {
     "slide_type": "slide"
    }
   },
   "outputs": [
    {
     "name": "stdout",
     "output_type": "stream",
     "text": [
      "8.438876407718288\n",
      "[[187.7476  87.9555  48.13   -44.105   31.9807 -17.2936 -50.1404]\n",
      " [ 87.9555  42.7119  18.1747 -17.471   15.937   -5.7288 -22.7997]\n",
      " [ 48.13    18.1747  81.9481 -68.8222  11.3873 -22.2447 -15.8679]\n",
      " [-44.105  -17.471  -68.8222  58.5962 -10.8772  18.3027  13.7764]\n",
      " [ 31.9807  15.937   11.3873 -10.8772   7.1901  -2.1719  -8.1713]\n",
      " [-17.2936  -5.7288 -22.2447  18.3027  -2.1719   8.1892   5.6451]\n",
      " [-50.1404 -22.7997 -15.8679  13.7764  -8.1713   5.6451  14.2386]]\n"
     ]
    }
   ],
   "source": [
    "import numpy as np\n",
    "import scipy.linalg as splin\n",
    "import matplotlib.pyplot as plt\n",
    "plt.rc(\"text\", usetex=True)\n",
    "%matplotlib inline \n",
    "\n",
    "n = 7\n",
    "A = np.random.randn(n, n)\n",
    "A = A + A.T\n",
    "print(np.linalg.norm(A))\n",
    "expA = splin.expm(A)\n",
    "print(expA.round(4))"
   ]
  },
  {
   "cell_type": "code",
   "execution_count": 2,
   "metadata": {
    "slideshow": {
     "slide_type": "slide"
    }
   },
   "outputs": [],
   "source": [
    "def qr_algorithm(A, num_iter, eps):\n",
    "    T = A.copy()\n",
    "    U = np.eye(A.shape[0])\n",
    "    conv = [(T, U)]\n",
    "    for i in range(num_iter):\n",
    "        Q, R = np.linalg.qr(T)\n",
    "        T = R @ Q\n",
    "        U = U @ Q\n",
    "        conv.append((T, U))\n",
    "        if np.sum(np.abs(np.tril(T, k=-1))) < eps:\n",
    "            break\n",
    "    return T, U, conv[1:]"
   ]
  },
  {
   "cell_type": "code",
   "execution_count": 3,
   "metadata": {
    "slideshow": {
     "slide_type": "slide"
    }
   },
   "outputs": [
    {
     "name": "stdout",
     "output_type": "stream",
     "text": [
      "6.237266322060142e-14\n"
     ]
    }
   ],
   "source": [
    "T, U, conv = qr_algorithm(A, 2000, 1e-6)\n",
    "print(np.linalg.norm(A - U @ T @ U.T))"
   ]
  },
  {
   "cell_type": "code",
   "execution_count": 4,
   "metadata": {
    "slideshow": {
     "slide_type": "slide"
    }
   },
   "outputs": [
    {
     "name": "stdout",
     "output_type": "stream",
     "text": [
      "[[187.7476  87.9555  48.13   -44.105   31.9807 -17.2936 -50.1404]\n",
      " [ 87.9555  42.712   18.1747 -17.471   15.937   -5.7288 -22.7997]\n",
      " [ 48.13    18.1747  81.9481 -68.8222  11.3873 -22.2447 -15.8679]\n",
      " [-44.105  -17.471  -68.8222  58.5962 -10.8772  18.3027  13.7764]\n",
      " [ 31.9807  15.937   11.3873 -10.8772   7.1901  -2.1719  -8.1713]\n",
      " [-17.2936  -5.7288 -22.2447  18.3027  -2.1719   8.1892   5.6451]\n",
      " [-50.1404 -22.7997 -15.8679  13.7764  -8.1713   5.6451  14.2386]]\n",
      "3.8841001662222175e-05\n"
     ]
    }
   ],
   "source": [
    "cur_term = np.eye(n)\n",
    "expA_approx = np.eye(n)\n",
    "K = 50\n",
    "denom = 1.\n",
    "conv = [expA_approx]\n",
    "for i in range(1, K):\n",
    "    denom = denom * i\n",
    "    cur_term = U @ T**i @ U.T / denom\n",
    "    expA_approx = expA_approx + cur_term\n",
    "    conv.append(expA_approx)\n",
    "print(expA_approx.round(4))\n",
    "print(np.linalg.norm(expA_approx - expA))"
   ]
  },
  {
   "cell_type": "code",
   "execution_count": 5,
   "metadata": {
    "slideshow": {
     "slide_type": "slide"
    }
   },
   "outputs": [
    {
     "data": {
      "image/png": "[encoded data removed]",
      "text/plain": [
       "<Figure size 720x504 with 1 Axes>"
      ]
     },
     "metadata": {
      "needs_background": "light"
     },
     "output_type": "display_data"
    }
   ],
   "source": [
    "plt.figure(figsize=(10, 7))\n",
    "plt.plot([np.linalg.norm(expA - approx, \"fro\") / np.linalg.norm(expA) for approx in conv])\n",
    "plt.yscale(\"log\")\n",
    "plt.xticks(fontsize=20)\n",
    "plt.yticks(fontsize=20)\n",
    "plt.xlabel(\"\\# iterations, $k$\", fontsize=20)\n",
    "plt.ylabel(\"$\\|\\exp(A) - S_k \\|_F / \\|\\exp(A)\\|_F$\", fontsize=20)\n",
    "plt.grid(True)"
   ]
  },
  {
   "cell_type": "markdown",
   "metadata": {
    "slideshow": {
     "slide_type": "slide"
    }
   },
   "source": [
    "## Главное по семинару\n",
    "\n",
    "- Сдвиги и ускорение методов поиска собственных значений\n",
    "- Метод Релея\n",
    "- Матричные функции для плотных матриц"
   ]
  }
 ],
 "metadata": {
  "celltoolbar": "Slideshow",
  "kernelspec": {
   "display_name": "Python 3",
   "language": "python",
   "name": "python3"
  },
  "language_info": {
   "codemirror_mode": {
    "name": "ipython",
    "version": 3
   },
   "file_extension": ".py",
   "mimetype": "text/x-python",
   "name": "python",
   "nbconvert_exporter": "python",
   "pygments_lexer": "ipython3",
   "version": "3.7.7"
  }
 },
 "nbformat": 4,
 "nbformat_minor": 4
}
