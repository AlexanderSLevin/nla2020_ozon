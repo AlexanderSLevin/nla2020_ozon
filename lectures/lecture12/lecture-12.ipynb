{
 "cells": [
  {
   "cell_type": "markdown",
   "metadata": {
    "slideshow": {
     "slide_type": "slide"
    }
   },
   "source": [
    "# Лекция 12: структурированные матрицы, быстрое преобразование Фурье (FFT), свёртки, Тёплицевы матрицы"
   ]
  },
  {
   "cell_type": "markdown",
   "metadata": {
    "slideshow": {
     "slide_type": "slide"
    }
   },
   "source": [
    "## На прошлой лекции\n",
    "\n",
    "- Итерационные методы для поиска собственных значений:\n",
    "    - аппроксимация Ритца\n",
    "    - PINVIT\n",
    "    - LOBPCG\n",
    "    - метод Якоби-Дэвидсона"
   ]
  },
  {
   "cell_type": "markdown",
   "metadata": {
    "slideshow": {
     "slide_type": "slide"
    }
   },
   "source": [
    "## Другие классы структурированых матриц\n",
    "\n",
    "- До сих пор мы обсуждали предобуславливание только для **разреженных матриц**\n",
    "- Но итерационные методы работают хорошо для любых матриц, которые можно эффективно умножать на вектор \n",
    "- Важный класс таких матриц образуют **Тёплицевы матрицы** (и **Ганкелевы матрицы**), а также их многоуровневые модификации\n",
    "- Они напрямую связаны с операцией **свёртки** и **быстрым преобразованием Фурье**"
   ]
  },
  {
   "cell_type": "markdown",
   "metadata": {
    "slideshow": {
     "slide_type": "slide"
    }
   },
   "source": [
    "## Свёртка\n",
    "\n",
    "- Одна из основных операций в обработке сигналов/машинном обучении – это **свёртка двух функций**.\n",
    "\n",
    "- Пусть $x(t)$ и $y(t)$ две данные функции. Их свёртка определяется как\n",
    "\n",
    "$$(x * y)(t) = \\int_{-\\infty}^{\\infty} x(\\tau) y(t -  \\tau) d \\tau.$$"
   ]
  },
  {
   "cell_type": "markdown",
   "metadata": {
    "slideshow": {
     "slide_type": "slide"
    }
   },
   "source": [
    "## Теорема о свёртке и преобразование Фурье\n",
    "\n",
    "Широко известный факт: *свёртка* во временном пространстве (**time domain**) эквивалентна *произведению* в частотном пространстве (**frequency domain**). \n",
    "\n",
    "- Преобразование из одного пространства в другое осуществляется с помощью **преобразования Фурье**:\n",
    "\n",
    "$$\\widehat{x}(w) = (\\mathcal{F}(x))(w) = \\int_{-\\infty}^{\\infty} e^{i w t} x(t) dt.$$\n",
    "\n",
    "- Тогда\n",
    "\n",
    "$$\\mathcal{F}(x * y) = \\mathcal{F}(x) \\mathcal{F}(y).$$\n",
    "\n",
    "- Таким образом, алгритм вычисленеия свёртки можно записать следующим образом:\n",
    "\n",
    "\n",
    "1. Вычислить преобразование Фурье от $x(t)$ и $y(t)$. \n",
    "2. Вычислить их произведение\n",
    "3. Применить к результапту обратное преобразование Фурье"
   ]
  },
  {
   "cell_type": "markdown",
   "metadata": {
    "slideshow": {
     "slide_type": "slide"
    }
   },
   "source": [
    "## Операция дискретной свёртки\n",
    "\n",
    "$$(x * y)(t) = \\int_{-\\infty}^{\\infty} x(\\tau) y(t -  \\tau) d \\tau.$$\n",
    "\n",
    "- Давайте приблизим интеграл с помощью суммы значений подынтегрального выражения на равномерной сетке.\n",
    "\n",
    "- Тогда нам останется просуммировать выражение\n",
    "\n",
    "$$z_i = \\sum_{j=0}^{n-1} x_j y_{i - j},$$\n",
    "\n",
    "которое называется **дискретной свёрткой**. Его можно рассматривать как применение фильтра с коэффициентами $x$ к сигналу $y$. \n",
    "\n",
    "- Существуют разные фильтры для разных целей, но все они обладают свойством инвариантности к сдвигу (**shift-invariant structure**)."
   ]
  },
  {
   "cell_type": "markdown",
   "metadata": {
    "slideshow": {
     "slide_type": "slide"
    }
   },
   "source": [
    "## Дискретная свёртка и Тёплицевы матрицы\n",
    "\n",
    "Дискретную свёртку можнопредставить как умножение матрицы на вектор:\n",
    "\n",
    "$$z_i = \\sum_{j=0}^{n-1} x_j y_{i - j}, \\Leftrightarrow z = Ax$$\n",
    "\n",
    "где элементы матрицы $A$ равны $a_{ij} = y_{i-j}$, то есть они зависят только от разности между индексами строки и столбца.\n"
   ]
  },
  {
   "cell_type": "markdown",
   "metadata": {
    "slideshow": {
     "slide_type": "slide"
    }
   },
   "source": [
    "## Тёплицевы матрицы: определение\n",
    "\n",
    "Матрица называется **Тёплицевой**, если её элементы определены как\n",
    "\n",
    "$$a_{ij} = t_{i - j}.$$\n",
    "\n",
    "- Тёплицева матрица полностью определяется первой строкой и первым столбцом (то есть $2n-1$ параметр).\n",
    "\n",
    "- Это плотная матрица, однако она имеет структуру, то есть определяется $\\mathcal{O}(n)$ параметрами (сравните с разреженными матрицами)\n",
    "\n",
    "- Основная операция для вычисления дискретной свёртки – это произведение Тёплицевой матрицы на вектор.\n",
    "\n",
    "- Можно ли его вычислить быстрее чем за $\\mathcal{O}(n^2)$?"
   ]
  },
  {
   "cell_type": "markdown",
   "metadata": {
    "slideshow": {
     "slide_type": "slide"
    }
   },
   "source": [
    "## Тёплицевы матрицы и циркулянт\n",
    "\n",
    "- Для специального класса Тёплицевых матриц, который называется **циркулянтными матрицами** (или просто циркулянтами), возможно вычислить произведения матрицы на вектор быстро\n",
    "\n",
    "- Матрица $C$ называется циркулянтом, если\n",
    "\n",
    "$$C_{ij} = c_{i - j \\mod n},$$\n",
    "\n",
    "то есть \n",
    "\n",
    "$$C = \\begin{bmatrix} c_0 & c_1 & c_2 & c_3 \\\\\n",
    " c_3 & c_0 & c_1 & c_2 \\\\\n",
    " c_2 & c_3 & c_0 & c_1 \\\\\n",
    " c_1 & c_2 & c_3 & c_0 \\\\\n",
    " \\end{bmatrix}.\n",
    " $$"
   ]
  },
  {
   "cell_type": "markdown",
   "metadata": {
    "slideshow": {
     "slide_type": "slide"
    }
   },
   "source": [
    "## Спектральная теорема для циркулянтов\n",
    "\n",
    "**Теорема**\n",
    "\n",
    "Любая циркулянтная матрица может быть представлена в виде\n",
    "\n",
    "$$C = \\frac{1}{n} F^* \\Lambda F,$$\n",
    "\n",
    "где $F$ – **матрица Фурье** с элементами\n",
    "\n",
    "$$F_{kl} = w_n^{kl}, \\quad k, l = 0, \\ldots, n-1, \\quad w_n = e^{-\\frac{2 \\pi i}{n}},$$\n",
    "\n",
    "а матрица $\\Lambda = \\text{diag}(\\lambda)$ диагональная и \n",
    "\n",
    "$$\\lambda = F c, $$\n",
    "\n",
    "где $c$ – первый столбец циркулянта $C$.\n",
    "\n",
    "Доказательство будет позже, сейчас рассмотрим свойства матрицы Фурье."
   ]
  },
  {
   "cell_type": "markdown",
   "metadata": {
    "slideshow": {
     "slide_type": "slide"
    }
   },
   "source": [
    "## Матрица Фурье\n",
    "\n",
    "Матрица Фурье определяется как:\n",
    "\n",
    "$$\n",
    "F_n =\n",
    "\\begin{pmatrix}\n",
    "1 & 1 & 1 & \\dots & 1 \\\\\n",
    "1 & w^{1\\cdot 1}_n & w^{1\\cdot 2}_n & \\dots & w^{1\\cdot (n-1)}_n\\\\\n",
    "1 & w^{2\\cdot 1}_n & w^{2\\cdot 2}_n & \\dots & w^{2\\cdot (n-1)}_n\\\\\n",
    "\\dots & \\dots & \\dots &\\dots &\\dots \\\\\n",
    "1 & w^{(n-1)\\cdot 1}_n & w^{(n-1)\\cdot 2}_n & \\dots & w^{(n-1)\\cdot (n-1)}_n\\\\\n",
    "\\end{pmatrix},\n",
    "$$\n",
    "\n",
    "или эквивалентно\n",
    "\n",
    "$$ F_n = \\{ w_n^{kl} \\}_{k,l=0}^{n-1}, $$\n",
    "\n",
    "где \n",
    "\n",
    "$$w_n = e^{-\\frac{2\\pi i}{n}}.$$"
   ]
  },
  {
   "cell_type": "markdown",
   "metadata": {
    "slideshow": {
     "slide_type": "slide"
    }
   },
   "source": [
    "**Свойства:**\n",
    "\n",
    "* Симметричная (но не эрмитова!)\n",
    "* Унитарна с точностью до нормализующего множителя: $F_n^* F_n = F_n F_n^* = nI$ (проверьте этот факт!). Поэтому $F_n^{-1} = \\frac{1}{n}F^*_n$\n",
    "* Может быть умножена на вектора (произведение называется дискретным преобразованием Фурье (DFT)) за  <font color='red'>$\\mathcal{O}(n \\log n)$</font> операций (операция называется быстрым преобразованием Фурье или <font color='red'>FFT</font>)! \n",
    "* FFT помогает анализировать спектр сигнала и, как мы увидим далее, позволяет быстро умножать некоторый класс матриц на вектор."
   ]
  },
  {
   "cell_type": "code",
   "execution_count": 1,
   "metadata": {
    "slideshow": {
     "slide_type": "slide"
    }
   },
   "outputs": [
    {
     "data": {
      "text/plain": [
       "Text(0.5, 1.0, 'Initial signal')"
      ]
     },
     "execution_count": 1,
     "metadata": {},
     "output_type": "execute_result"
    },
    {
     "data": {
      "image/png": "[encoded data removed]",
      "text/plain": [
       "<Figure size 432x288 with 1 Axes>"
      ]
     },
     "metadata": {
      "needs_background": "light"
     },
     "output_type": "display_data"
    }
   ],
   "source": [
    "%matplotlib inline\n",
    "import matplotlib.pyplot as plt\n",
    "import numpy as np\n",
    "\n",
    "\n",
    "N = 1000\n",
    "dt = 1.0 / 800.0\n",
    "x = np.linspace(0.0, N*dt, N)\n",
    "y = np.sin(50.0 * 2.0*np.pi*x) + 0.5*np.sin(80.0 * 2.0*np.pi*x) + 0.2*np.sin(300.0 * 2.0*np.pi*x)\n",
    "plt.plot(x, y)\n",
    "plt.xlabel('Time')\n",
    "plt.ylabel('Signal')\n",
    "plt.title('Initial signal')"
   ]
  },
  {
   "cell_type": "code",
   "execution_count": 2,
   "metadata": {
    "slideshow": {
     "slide_type": "slide"
    }
   },
   "outputs": [
    {
     "data": {
      "text/plain": [
       "Text(0.5, 1.0, 'Discrete Fourier transform')"
      ]
     },
     "execution_count": 2,
     "metadata": {},
     "output_type": "execute_result"
    },
    {
     "data": {
      "image/png": "[encoded data removed]",
      "text/plain": [
       "<Figure size 432x288 with 1 Axes>"
      ]
     },
     "metadata": {
      "needs_background": "light"
     },
     "output_type": "display_data"
    }
   ],
   "source": [
    "yf = np.fft.fft(y)\n",
    "xf = np.linspace(0.0, 1.0/(2.0*dt), N//2)\n",
    "plt.plot(xf, 2.0/N * np.abs(yf[0:N//2])) #Note: N/2 to N will give negative frequencies\n",
    "plt.xlabel('Frequency')\n",
    "plt.ylabel('Amplitude')\n",
    "plt.title('Discrete Fourier transform')"
   ]
  },
  {
   "cell_type": "markdown",
   "metadata": {
    "slideshow": {
     "slide_type": "slide"
    }
   },
   "source": [
    "## Быстрое преобразование Фурье (FFT)\n",
    "\n",
    "Далее мы рассмотрим матричную интерпретацию стандартного [алгоритма Cooley-Tukey (1965)](https://www.ams.org/journals/mcom/1965-19-090/S0025-5718-1965-0178586-1/S0025-5718-1965-0178586-1.pdf), который основан на идее **разделяй и властвуй**. В современных библиотеках используются более совершенные версии этого алгоритма.\n",
    "\n",
    "- Пусть $n$ является некоторой степенью 2. \n",
    "- Сначала мы <font color='red'> переставим строки </font> матрицы Фурье так чтобы первые $n/2$ строк новой матрицы соответствовали строкам исходной матрицы с номерами <font color='red'>$1,3,5,\\dots,n-1$</font>, а оставшиеся $n/2$ строк – строкам с номерами <font color='red'>$2,4,6\\dots,n$</font>. \n",
    "\n",
    "- Эта перестановка может быть выражена как умножение Фурье матрицы на матрицу перестановки $P_n$:\n",
    "\n",
    "$$\n",
    "P_n =\n",
    "\\begin{pmatrix}\n",
    "1 & 0 & 0 & 0 & \\dots & 0 & 0 \\\\\n",
    "0 & 0 & 1 & 0 &\\dots & 0 & 0 \\\\\n",
    "\\vdots & & & & & & \\vdots \\\\\n",
    "0 & 0 & 0 & 0 &\\dots & 1 & 0 \\\\\n",
    "\\hline\n",
    "0 & 1 & 0 & 0 & \\dots & 0 & 0 \\\\\n",
    "0 & 0 & 0 & 1 &\\dots & 0 & 0 \\\\\n",
    "\\vdots & & & & & & \\vdots \\\\\n",
    "0 & 0 & 0 & 0 &\\dots & 0 & 1 \n",
    "\\end{pmatrix},\n",
    "$$"
   ]
  },
  {
   "cell_type": "markdown",
   "metadata": {
    "slideshow": {
     "slide_type": "slide"
    }
   },
   "source": [
    "Таким образом,\n",
    "\n",
    "$$\n",
    "P_n F_n =\n",
    "\\begin{pmatrix}\n",
    "1 & 1 & 1 & \\dots & 1 \\\\\n",
    "1 & w^{2\\cdot 1}_n & w^{2\\cdot 2}_n & \\dots & w^{2\\cdot (n-1)}_n\\\\\n",
    "1 & w^{4\\cdot 1}_n & w^{4\\cdot 2}_n & \\dots & w^{4\\cdot (n-1)}_n\\\\\n",
    "\\vdots & & & & \\vdots\\\\\n",
    "1 & w^{(n-2)\\cdot 1}_n & w^{(n-2)\\cdot 2}_n & \\dots & w^{(n-2)\\cdot (n-1)}_n\\\\\n",
    "\\hline\n",
    "1 & w^{1\\cdot 1}_n & w^{1\\cdot 2}_n & \\dots & w^{1\\cdot (n-1)}_n\\\\\n",
    "1 & w^{3\\cdot 1}_n & w^{3\\cdot 2}_n & \\dots & w^{3\\cdot (n-1)}_n\\\\           \n",
    "\\vdots & & & & \\vdots\\\\\n",
    "1 & w^{(n-1)\\cdot 1}_n & w^{(n-1)\\cdot 2}_n & \\dots & w^{(n-1)\\cdot (n-1)}_n\\\\\n",
    "\\end{pmatrix},\n",
    "$$\n",
    "\n",
    "Теперь представим, что мы разделили столбцы и строки на две части, каждая размером $n/2$."
   ]
  },
  {
   "cell_type": "markdown",
   "metadata": {
    "slideshow": {
     "slide_type": "slide"
    }
   },
   "source": [
    "В результате получим <font color='red'>$2\\times 2$ блочную матрицу</font> следующего вида\n",
    "\n",
    "$$\n",
    "P_n F_n =\n",
    "\\begin{pmatrix}\n",
    "\\left\\{w^{2kl}_n\\right\\} & \\left\\{w_n^{2k\\left(\\frac{n}{2} + l\\right)}\\right\\} \\\\\n",
    "\\left\\{w_n^{(2k+1)l}\\right\\} & \\left\\{w_n^{(2k+1)\\left(\\frac{n}{2} + l\\right)}\\right\\}\n",
    "\\end{pmatrix},\n",
    "\\quad k,l = 0,\\dots, \\frac{n}{2}-1.\n",
    "$$\n",
    "\n",
    "- Пока это не выглядит, как что-то что будет работать быстрее, но скоро мы эт увидим.\n",
    "\n",
    "- Рассмотрим более подробно первый блок $\\left\\{w^{2kl}_n\\right\\}$:\n",
    "\n",
    "$$\n",
    "w^{2kl}_n = e^{-2kl\\frac{2\\pi i}{n}} = e^{-kl\\frac{2\\pi i}{n/2}} = w^{kl}_{n/2}.\n",
    "$$\n",
    "\n",
    "То есть этот блок в точности Фурье матрица в два раза меньшего размера $F_{n/2}$!\n",
    "\n",
    "\n",
    "$$\n",
    "\\begin{pmatrix}\n",
    "F_{n/2} & \\left\\{w_n^{2k\\left(\\frac{n}{2} + l\\right)}\\right\\} \\\\\n",
    "\\left\\{w_n^{(2k+1)l}\\right\\} & \\left\\{w_n^{(2k+1)\\left(\\frac{n}{2} + l\\right)}\\right\\}\n",
    "\\end{pmatrix}\n",
    "$$\n",
    "\n",
    "Блок $\\left\\{w_n^{(2k+1)l}\\right\\}$ может быть записан как\n",
    "\n",
    "$$\n",
    "w_n^{(2k+1)l} = w_n^{2kl + l} = w_n^{l} w_n^{2kl} = w_n^{l} w_{n/2}^{kl},\n",
    "$$\n",
    "\n",
    "что можно записать как $W_{n/2}F_{n/2}$, где \n",
    "\n",
    "$$W_{n/2} = \\text{diag}(1,w_n,w_n^2,\\dots,w_n^{n/2-1}).$$"
   ]
  },
  {
   "cell_type": "markdown",
   "metadata": {
    "slideshow": {
     "slide_type": "slide"
    }
   },
   "source": [
    "Проделвая аналогичные преобразования с оставшимися блоками, получим в итоге\n",
    "\n",
    "$$\n",
    "P_n F_n =\n",
    "\\begin{pmatrix}\n",
    "F_{n/2} & F_{n/2} \\\\\n",
    "F_{n/2}W_{n/2} & -F_{n/2}W_{n/2}\n",
    "\\end{pmatrix} =\n",
    "\\begin{pmatrix}\n",
    "F_{n/2} & 0 \\\\\n",
    "0 & F_{n/2}\n",
    "\\end{pmatrix}\n",
    "\\begin{pmatrix}\n",
    "I_{n/2} & I_{n/2} \\\\\n",
    "W_{n/2} & -W_{n/2}\n",
    "\\end{pmatrix}.\n",
    "$$\n",
    "\n",
    "- Таким образом, мы <font color='red'>свели умножение $F_n$ к 2 умножениям на $F_{n/2}$</font> и быстрому умножению на диагональную матрицу. \n",
    "- Применив полученные выражения рекурсивно к $F_{n/2}$, мы получим сложность <font color='red'>$\\mathcal{O}(n\\log n)$ </font>."
   ]
  },
  {
   "cell_type": "code",
   "execution_count": 2,
   "metadata": {
    "slideshow": {
     "slide_type": "slide"
    }
   },
   "outputs": [
    {
     "name": "stdout",
     "output_type": "stream",
     "text": [
      "Full matvec time = 0.06917304271482862\n",
      "FFT time = 3.3967071485988395e-05\n",
      "Relative error = 1.550139758681484e-12\n"
     ]
    }
   ],
   "source": [
    "#FFT vs full matvec\n",
    "import time\n",
    "import numpy as np\n",
    "import scipy as sp\n",
    "import scipy.linalg\n",
    "\n",
    "n = 10000\n",
    "F = sp.linalg.dft(n)\n",
    "x = np.random.randn(n)\n",
    "\n",
    "y_full = F.dot(x)\n",
    "\n",
    "full_mv_time = %timeit -q -o F.dot(x)\n",
    "print('Full matvec time =', full_mv_time.average)\n",
    "\n",
    "y_fft = np.fft.fft(x)\n",
    "fft_mv_time = %timeit -q -o np.fft.fft(x)\n",
    "print('FFT time =', fft_mv_time.average)\n",
    "\n",
    "print('Relative error =', (np.linalg.norm(y_full - y_fft)) / np.linalg.norm(y_full))"
   ]
  },
  {
   "cell_type": "markdown",
   "metadata": {
    "slideshow": {
     "slide_type": "slide"
    }
   },
   "source": [
    "## Циркулянтные матрицы\n",
    "\n",
    "- FFT помогает быстро умножать некоторые типы матриц на вектор. \n",
    "- Начнём с циркулянтов:\n",
    "\n",
    "$$\n",
    "C =\n",
    "\\begin{pmatrix} \n",
    "c_0 & c_{n-1} & c_{n-2} & \\dots & c_1 \\\\\n",
    "c_{1} & c_{0} & c_{n-1} & \\dots & c_2 \\\\\n",
    "c_{2} & c_{1} & c_0 & \\dots & c_3 \\\\\n",
    "\\dots & \\dots & \\dots & \\dots & \\dots \\\\\n",
    "c_{n-1} & c_{n-2} & c_{n-3} & \\dots & c_0\n",
    "\\end{pmatrix}\n",
    "$$"
   ]
  },
  {
   "cell_type": "markdown",
   "metadata": {
    "slideshow": {
     "slide_type": "slide"
    }
   },
   "source": [
    "### Спектральное разложение циркулянта\n",
    "\n",
    "**Теорема** \n",
    "\n",
    "Пусть $C$ циркулянт размера $n\\times n$ и пусть $c$ его первый столбец, тогда\n",
    "\n",
    "$$\n",
    "C = \\frac{1}{n} F_n^* \\text{diag}(F_n c) F_n \n",
    "$$"
   ]
  },
  {
   "cell_type": "markdown",
   "metadata": {
    "slideshow": {
     "slide_type": "slide"
    }
   },
   "source": [
    "*Доказательство*\n",
    "\n",
    "- Рассмотрим число \n",
    "\n",
    "$$\\lambda (\\omega) = c_0 + \\omega c_1 + \\dots + \\omega^{n-1} c_{n-1},$$ \n",
    "\n",
    "где $\\omega$ любое число такое что $\\omega^n=1$. \n",
    "- Умножим $\\lambda$ на $1,\\omega,\\dots, \\omega^{n-1}$:\n",
    "\n",
    "$$\n",
    "\\begin{split}\n",
    "\\lambda & = c_0 &+& \\omega c_1 &+& \\dots &+& \\omega^{n-1} c_{n-1},\\\\\n",
    "\\lambda\\omega & = c_{n-1} &+& \\omega c_0 &+& \\dots &+& \\omega^{n-1} c_{n-2},\\\\\n",
    "\\lambda\\omega^2 & = c_{n-2} &+& \\omega c_{n-1} &+& \\dots &+& \\omega^{n-1} c_{n-3},\\\\\n",
    "&\\dots\\\\\n",
    "\\lambda\\omega^{n-1} & = c_{1} &+& \\omega c_{2} &+& \\dots &+& \\omega^{n-1} c_{0}.\n",
    "\\end{split}\n",
    "$$\n",
    "\n",
    "- Поэтому,\n",
    "\n",
    "$$\n",
    "\\lambda(\\omega) \\cdot \\begin{pmatrix} 1&\\omega & \\dots& \\omega^{n-1} \\end{pmatrix} =\n",
    "\\begin{pmatrix} 1&\\omega&\\dots& \\omega^{n-1} \\end{pmatrix} \\cdot C.\n",
    "$$\n",
    "\n",
    "- Запишем это для $\\omega = 1,w_n, \\dots, w_n^{n-1}$ и получим\n",
    "\n",
    "$$\n",
    "\\Lambda F_n = F_n C\n",
    "$$\n",
    "\n",
    "и наконец\n",
    "\n",
    "$$\n",
    "C = \\frac{1}{n} F^*_n \\Lambda F_n, \\quad \\text{где}\\quad \\Lambda = \\text{diag}(F_nc) \\qquad\\blacksquare\n",
    "$$"
   ]
  },
  {
   "cell_type": "markdown",
   "metadata": {
    "slideshow": {
     "slide_type": "slide"
    }
   },
   "source": [
    "## Быстрый матвек с циркулянтом\n",
    "\n",
    "- Представление $C = \\frac{1}{n} F^* \\text{diag}(F_n c) F_n $ даёт нам явный способ умножения вектора $x$ на $C$ за $\\mathcal{O}(n\\log n)$ операций. \n",
    "- В самом деле\n",
    "\n",
    "$$\n",
    "Cx = \\frac{1}{n} F_n^* \\text{diag}(F_n c) F_n x = \\text{ifft}\\left( \\text{fft}(c) \\circ \\text{fft}(x)\\right)\n",
    "$$\n",
    "\n",
    "где $\\circ$ обозначает поэлементное произведение (произведение Адамара) двух векторов (так как $\\text{diag}(a)b = a\\circ b$) и ```ifft``` обозначает обратное преобразование Фурье $F^{-1}_n$."
   ]
  },
  {
   "cell_type": "code",
   "execution_count": 5,
   "metadata": {
    "slideshow": {
     "slide_type": "slide"
    }
   },
   "outputs": [
    {
     "name": "stdout",
     "output_type": "stream",
     "text": [
      "Full matvec time = 0.000976655543571464\n",
      "FFT time = 0.00010271472058571557\n",
      "Relative error = 4.481146334016571e-16\n"
     ]
    }
   ],
   "source": [
    "import numpy as np\n",
    "import scipy as sp\n",
    "import scipy.linalg\n",
    "\n",
    "def circulant_matvec(c, x):\n",
    "    return np.fft.ifft(np.fft.fft(c) * np.fft.fft(x))\n",
    "\n",
    "n = 2048\n",
    "c = np.random.random(n)\n",
    "C = sp.linalg.circulant(c)\n",
    "x = np.random.randn(n)\n",
    "\n",
    "\n",
    "y_full = C.dot(x)\n",
    "full_mv_time = %timeit -q -o C.dot(x)\n",
    "print('Full matvec time =', full_mv_time.average)\n",
    "\n",
    "\n",
    "y_fft = circulant_matvec(c, x)\n",
    "fft_mv_time = %timeit -q -o circulant_matvec(c, x)\n",
    "print('FFT time =', fft_mv_time.average)\n",
    "\n",
    "print('Relative error =', (np.linalg.norm(y_full - y_fft)) / np.linalg.norm(y_full))"
   ]
  },
  {
   "cell_type": "markdown",
   "metadata": {
    "slideshow": {
     "slide_type": "slide"
    }
   },
   "source": [
    "## Тёплицевы матрицы\n",
    "\n",
    "Теперь вернёмся к Тёплицевым матрицам!\n",
    "\n",
    "$$\n",
    "T =\n",
    "\\begin{pmatrix} \n",
    "t_0 & t_{-1} & t_{-2} & t_{-3}& \\dots & t_{1-n} \\\\\n",
    "t_{1} & t_{0} & t_{-1} & t_{-2}& \\dots & t_{2-n} \\\\\n",
    "t_{2} & t_{1} & t_0 & t_{-1} &\\dots & t_{3-n} \\\\\n",
    "t_{3} & t_{2} & t_1 & t_0 & \\dots & t_{4-n} \\\\\n",
    "\\dots & \\dots & \\dots & \\dots & \\dots & \\dots\\\\\n",
    "t_{n-1} & t_{n-2} & t_{n-3} & t_{n-4} &\\dots &t_0\n",
    "\\end{pmatrix},\n",
    "$$\n",
    "\n",
    "или эквивалентно $T_{ij} = t_{i-j}$.\n",
    "\n",
    "Операция умножения матрицы на вектор можно записать в виде\n",
    "\n",
    "$$\n",
    "y_i = \\sum_{j=1}^n t_{i-j} x_j.\n",
    "$$\n",
    "\n",
    "- Эта операция эквивалентна применению дискретной свёртки фильтра $t_i$ к сигналу $x_i$.\n",
    "- Быстрое вычисление свёртки имеет многочисленные приложения, напрмиер в обработке сигналов а также в интегральных уравнениях и уравнениях с частными производными\n",
    "- Далее посмотрим на сглаживающий эффект от применения фильтра в виде гауссианы"
   ]
  },
  {
   "cell_type": "code",
   "execution_count": 5,
   "metadata": {
    "scrolled": true,
    "slideshow": {
     "slide_type": "slide"
    }
   },
   "outputs": [
    {
     "data": {
      "image/png": "[encoded data removed]",
      "text/plain": [
       "<Figure size 432x288 with 3 Axes>"
      ]
     },
     "metadata": {
      "needs_background": "light"
     },
     "output_type": "display_data"
    }
   ],
   "source": [
    "from scipy import signal\n",
    "%matplotlib inline\n",
    "import matplotlib.pyplot as plt\n",
    "\n",
    "alpha = 0.01\n",
    "sig = np.repeat([0., 1., 0.], 100)\n",
    "filt = np.exp(-alpha * (np.arange(100)-50)**2)\n",
    "filtered = signal.convolve(sig, filt, mode='same') / sum(filt)\n",
    "\n",
    "fig, (ax_orig, ax_filt, ax_filtered) = plt.subplots(3, 1, sharex=True)\n",
    "ax_orig.plot(sig)\n",
    "ax_orig.margins(0, 0.1)\n",
    "ax_filt.plot(filt)\n",
    "ax_filt.margins(0, 0.1)\n",
    "ax_filtered.plot(filtered)\n",
    "ax_filtered.margins(0, 0.1)\n",
    "\n",
    "ax_orig.set_title('Original signal')\n",
    "ax_filt.set_title('Filter')\n",
    "ax_filtered.set_title('Convolution')\n",
    "\n",
    "fig.tight_layout()"
   ]
  },
  {
   "cell_type": "markdown",
   "metadata": {
    "slideshow": {
     "slide_type": "slide"
    }
   },
   "source": [
    "## Быстрый матвек с Тёплицевой матрицей\n",
    "\n",
    "**Ключевая идея**: умножение Тёплицевой матрицы на вектор может быть сведено к умножению циркулянта на вектор.\n",
    "\n",
    "- Действительно, каждая Тёплицева матрица размера $n\\times n$ может быть вложена в циркулянт $C$ размера $2n \\times 2n$:\n",
    "\n",
    "$$\n",
    "C = \n",
    "\\begin{pmatrix}\n",
    "T & \\dots \\\\\n",
    "\\dots & \\dots\n",
    "\\end{pmatrix}.\n",
    "$$\n",
    "\n",
    "- Матрицу $T = \\begin{pmatrix} \n",
    "t_0 & t_{-1} & t_{-2} \\\\\n",
    "t_{1} & t_{0} & t_{-1} \\\\\n",
    "t_{2} & t_{1} & t_0 \\\\\n",
    "\\end{pmatrix}$ \n",
    "можно вложить следующим образом\n",
    "\n",
    "$$\n",
    "C = \n",
    "\\begin{pmatrix} \n",
    "t_0 & t_{-1} & t_{-2} & t_{2} & t_{1}\\\\\n",
    "t_{1} & t_{0} & t_{-1} & t_{-2} & t_{2} \\\\\n",
    "t_{2} & t_{1} & t_0 & t_{-1} & t_{-2} \\\\\n",
    "t_{-2}& t_{2} & t_{1} & t_0 & t_{-1}  \\\\\n",
    "t_{-1} & t_{-2} & t_{2} & t_{1} & t_0  \n",
    "\\end{pmatrix}.\n",
    "$$\n",
    "\n",
    "- Для вычисления матвека \n",
    "$ \\begin{pmatrix} y_1 \\\\ y_2 \\\\ y_3 \\end{pmatrix}=\n",
    "\\begin{pmatrix} \n",
    "t_0 & t_{-1} & t_{-2} \\\\\n",
    "t_{1} & t_{0} & t_{-1} \\\\\n",
    "t_{2} & t_{1} & t_0 \\\\\n",
    "\\end{pmatrix}\n",
    "\\begin{pmatrix} x_1 \\\\ x_2 \\\\ x_3 \\end{pmatrix}$\n",
    "\n",
    "мы дополняем вектор $x$ нулями:\n",
    "\n",
    "$$\n",
    "\\begin{pmatrix} y_1 \\\\ y_2 \\\\ y_3 \\\\ \\star \\\\ \\star \\end{pmatrix} =\n",
    "\\begin{pmatrix} \n",
    "t_0 & t_{-1} & t_{-2} & t_{2} & t_{1}\\\\\n",
    "t_{1} & t_{0} & t_{-1} & t_{-2} & t_{2} \\\\\n",
    "t_{2} & t_{1} & t_0 & t_{-1} & t_{-2} \\\\\n",
    "t_{-2}& t_{2} & t_{1} & t_0 & t_{-1}  \\\\\n",
    "t_{-1} & t_{-2} & t_{2} & t_{1} & t_0  \n",
    "\\end{pmatrix}\n",
    "\\begin{pmatrix} x_1 \\\\ x_2 \\\\ x_3 \\\\ 0 \\\\ 0 \\end{pmatrix}=\n",
    "\\text{ifft}(\\text{fft}(\\begin{pmatrix} t_0 \\\\ t_{1} \\\\ t_{2} \\\\ t_{-2} \\\\ t_{-1} \\end{pmatrix})\\circ \\text{fft}(\\begin{pmatrix} x_1 \\\\ x_2 \\\\ x_3 \\\\ 0 \\\\ 0 \\end{pmatrix})).\n",
    "$$\n",
    "\n",
    "- Заметим, что вам **не нужно формировать и хранить** всю матрицу $T$"
   ]
  },
  {
   "cell_type": "markdown",
   "metadata": {
    "slideshow": {
     "slide_type": "slide"
    }
   },
   "source": [
    "## Многоуровневые Тёплицевые матрицы\n",
    "\n",
    "Двумерная свёртка определяется как\n",
    "\n",
    "$$\n",
    "y_{i_1i_2} = \\sum_{j_1,j_2=1}^n t_{i_1-j_1, i_2-j_2} x_{j_1 j_2}.\n",
    "$$\n",
    "\n",
    "- Отметим, что $x$ и $y$ – двумерные массивы, а $T$ – четырёхмерный. \n",
    "- Для сведения этого выражения к умножению матрицы на вектор необходимо вытянуть матрицы $x$ и $y$ в векторы:\n",
    "\n",
    "$$\n",
    "\\text{vec}(x) = \n",
    "\\begin{pmatrix}\n",
    "x_{11} \\\\ \\vdots \\\\ x_{1n} \\\\ \\hline \\\\ \\vdots \\\\ \\hline \\\\ x_{n1} \\\\ \\vdots \\\\ x_{nn}\n",
    "\\end{pmatrix},\n",
    "\\quad\n",
    "\\text{vec}(y) = \n",
    "\\begin{pmatrix}\n",
    "y_{11} \\\\ \\vdots \\\\ y_{1n} \\\\ \\hline \\\\ \\vdots \\\\ \\hline \\\\ y_{n1} \\\\ \\vdots \\\\ y_{nn}\n",
    "\\end{pmatrix}.\n",
    "$$\n",
    "\n",
    "- В этом случае матрица $T$ станет **блочно Тёплицевой с Тёплицевыми блоками:** (BTTB)\n",
    "\n",
    "$$\n",
    "T = \n",
    "\\begin{pmatrix} \n",
    "T_0 & T_{-1} & T_{-2} &  \\dots & T_{1-n} \\\\\n",
    "T_{1} & T_{0} & T_{-1} & \\dots & T_{2-n} \\\\\n",
    "T_{2} & T_{1} & T_0 & \\dots & T_{3-n} \\\\\n",
    "\\dots & \\dots & \\dots &  \\dots & \\dots\\\\\n",
    "T_{n-1} & T_{n-2} & T_{n-3}  &\\dots &T_0\n",
    "\\end{pmatrix},\n",
    "\\quad \\text{где} \\quad\n",
    "T_k = t_{k, i_2 - j_2}\\quad  \\text{Тёплицевы матрицы}\n",
    "$$"
   ]
  },
  {
   "cell_type": "markdown",
   "metadata": {
    "slideshow": {
     "slide_type": "slide"
    }
   },
   "source": [
    "## Быстрый матвек с многоуровневой Тёплицевой матрицей\n",
    "\n",
    "- Для получения быстрого алгоритма умножения BTTB матрицы на вектор надо вложить её в блочный циркулянт с циркулянтными блоками (BCCB)\n",
    "- Аналог\n",
    "\n",
    "$$\\begin{pmatrix} y_1 \\\\ y_2 \\\\ y_3 \\\\ \\star \\\\ \\star \\end{pmatrix} =\n",
    "\\text{ifft}(\\text{fft}(\\begin{pmatrix} t_0 \\\\ t_{1} \\\\ t_{2} \\\\ t_{-2} \\\\ t_{-1} \\end{pmatrix})\\circ\\text{fft}(\\begin{pmatrix} x_1 \\\\ x_2 \\\\ x_3 \\\\ 0 \\\\ 0 \\end{pmatrix})).$$\n",
    "\n",
    "будет выглядеть \n",
    "\n",
    "$$ \\begin{pmatrix} y_{11} & y_{12} & y_{13} & \\star & \\star \\\\ \n",
    "y_{21} & y_{22} & y_{23} & \\star & \\star \\\\  \n",
    "y_{31} & y_{32} & y_{33} & \\star & \\star \\\\ \n",
    "\\star & \\star & \\star & \\star & \\star \\\\  \n",
    "\\star & \\star & \\star & \\star & \\star \\\\  \n",
    "\\end{pmatrix} = \\text{ifft2d}(\\text{fft2d}(\\begin{pmatrix} t_{0,0} & t_{1,0} & t_{2,0} & t_{-2,0} & t_{-1,0} \\\\ \n",
    "t_{0,1} & t_{1,1} & t_{2,1} & t_{-2,1} & t_{-1,1} \\\\  \n",
    "t_{0,2} & t_{1,2} & t_{2,2} & t_{-2,2} & t_{-1,2} \\\\ \n",
    "t_{0,-2} & t_{1,-2} & t_{2,-2} & t_{-2,-2} & t_{-1,-2} \\\\ \n",
    "t_{0,-1} & t_{1,-1} & t_{2,-1} & t_{-2,-1} & t_{-1,-1}\n",
    "\\end{pmatrix}) \\circ \\text{fft2d}(\\begin{pmatrix}x_{11} & x_{12} & x_{13} & 0 & 0 \\\\ \n",
    "x_{21} & x_{22} & x_{23} & 0 & 0 \\\\  \n",
    "x_{31} & x_{32} & x_{33} & 0 & 0 \\\\ \n",
    "0 & 0 & 0 & 0 & 0 \\\\  \n",
    "0 & 0 & 0 & 0 & 0 \\\\  \n",
    "\\end{pmatrix})),$$\n",
    "\n",
    "где ```fft2d``` двумерное FFT, состоящее из последовательных преобразований одномерного FFT сначала к строкам, а затем к столбцам (или наоборот)"
   ]
  },
  {
   "cell_type": "code",
   "execution_count": 6,
   "metadata": {
    "slideshow": {
     "slide_type": "slide"
    }
   },
   "outputs": [
    {
     "data": {
      "image/png": "[encoded data removed]",
      "text/plain": [
       "<Figure size 576x576 with 4 Axes>"
      ]
     },
     "metadata": {
      "needs_background": "light"
     },
     "output_type": "display_data"
    }
   ],
   "source": [
    "# Blurring and Sharpening Lena by convolution\n",
    "\n",
    "from scipy import signal\n",
    "import numpy as np\n",
    "import matplotlib.pyplot as plt\n",
    "%matplotlib  inline\n",
    "from scipy import misc\n",
    "import imageio\n",
    "\n",
    "filter_size = 3\n",
    "filter_blur = np.ones((filter_size, filter_size)) / filter_size**2\n",
    "lena = imageio.imread('./lena512.jpg')\n",
    "#lena = misc.face()\n",
    "#lena = lena[:, :, 0]\n",
    "blurred = signal.convolve2d(lena, filter_blur, boundary='symm', mode='same')\n",
    "\n",
    "fig, ax = plt.subplots(2, 2, figsize=(8, 8))\n",
    "ax[0, 0].imshow(lena[200:300, 200:300], cmap='gray')\n",
    "ax[0, 0].set_title('Original Lena')\n",
    "ax[0, 1].imshow(blurred[200:300, 200:300], cmap='gray')\n",
    "ax[0, 1].set_title('Blurred Lena')\n",
    "ax[1, 0].imshow((lena - blurred)[200:300, 200:300], cmap='gray')\n",
    "ax[1, 0].set_title('Lena $-$ Blurred Lena')\n",
    "ax[1, 1].imshow(((lena - blurred)*3 + blurred)[200:300, 200:300], cmap='gray')\n",
    "ax[1, 1].set_title('$3\\cdot$(Lena $-$ Blurred Lena) + Blurred Lena')\n",
    "fig.tight_layout()"
   ]
  },
  {
   "cell_type": "markdown",
   "metadata": {
    "slideshow": {
     "slide_type": "slide"
    }
   },
   "source": [
    "## Решение линейных систем с Тёплицевыми матрицами\n",
    "\n",
    "- Что такое свёртка понятно, но как быть если нужно сделать обратную операцию (**deconvolution**) или другими словами решить линейную систему с Тёплицевой матрицей?\n",
    "\n",
    "$$T x = f.$$\n",
    "\n",
    "- Для периодического случая, в котором $T = C$ и является циркулянтом, у нас есть спектральная теорема\n",
    "\n",
    "$$C = \\frac{1}{n}F^* \\Lambda F, \\quad C^{-1} = \\frac{1}{n}F^* \\Lambda^{-1} F,$$\n",
    "\n",
    "но для произвольной Тёплицевой матрицы это нетривиальный вопрос."
   ]
  },
  {
   "cell_type": "markdown",
   "metadata": {
    "slideshow": {
     "slide_type": "slide"
    }
   },
   "source": [
    "## Итерационные методы\n",
    "\n",
    "- Неплохой рецепт для Тёплицевых линейных систем – это использовать итерационные методы, так как доступен быстрый матвек.\n",
    "\n",
    "- В качестве предобуславливателя хорошо подойдёт **циркулянт**."
   ]
  },
  {
   "cell_type": "markdown",
   "metadata": {
    "slideshow": {
     "slide_type": "slide"
    }
   },
   "source": [
    "## Циркулянтный предобуславливатель\n",
    "\n",
    "- Естественным подходов к построению предобуславливателя является использование циркулянтов, так как с ними легко решать линейные системы.\n",
    "\n",
    "- Первый такой предобуславливатель предложили **Raymond Chan и Gilbert Strang**, и в качестве вектора для генерации циркулянта использовали первый столбец Тёплицевой матрицы.\n",
    "\n",
    "- Другой предобуславливатель предложил **Tony Chan**, идея тоже довольно очевидна: \n",
    "\n",
    "$$C = \\arg \\min_P \\Vert P - T \\Vert_F.$$\n",
    "\n",
    "- Можно получить простые формулы для элементов матрицы $C$."
   ]
  },
  {
   "cell_type": "code",
   "execution_count": 3,
   "metadata": {
    "slideshow": {
     "slide_type": "slide"
    }
   },
   "outputs": [
    {
     "data": {
      "image/png": "[encoded data removed]",
      "text/plain": [
       "<Figure size 432x288 with 1 Axes>"
      ]
     },
     "metadata": {
      "needs_background": "light"
     },
     "output_type": "display_data"
    },
    {
     "data": {
      "image/png": "[encoded data removed]",
      "text/plain": [
       "<Figure size 432x288 with 1 Axes>"
      ]
     },
     "metadata": {
      "needs_background": "light"
     },
     "output_type": "display_data"
    }
   ],
   "source": [
    "import numpy as np\n",
    "import scipy.linalg as splin\n",
    "%matplotlib inline\n",
    "import matplotlib.pyplot as plt\n",
    "\n",
    "n = 100\n",
    "c = np.zeros(n)\n",
    "c[0] = -2\n",
    "c[1] = 1\n",
    "Tm = splin.toeplitz(c, c)\n",
    "\n",
    "\n",
    "c1 = splin.circulant(c) #Strang preconditioner\n",
    "Fmat = 1.0/np.sqrt(n) * np.fft.fft(np.eye(n)) #Poor man's Fourier matrix\n",
    "\n",
    "d2 = np.diag(Fmat.conj().dot(Tm).dot(Fmat))\n",
    "c2 = Fmat.dot(np.diag(d2)).dot(Fmat.conj().T)\n",
    "\n",
    "\n",
    "mat = np.linalg.inv(c1).dot(Tm)\n",
    "ev = np.linalg.eigvals(mat).real\n",
    "plt.plot(np.sort(ev), np.ones(n), 'o')\n",
    "plt.xlabel('Eigenvalues for Strang preconditioner')\n",
    "plt.gca().get_yaxis().set_visible(False)\n",
    "\n",
    "mat = np.linalg.inv(c2).dot(Tm)\n",
    "ev = np.linalg.eigvals(mat).real\n",
    "plt.figure()\n",
    "plt.plot(np.sort(ev), np.ones(n), 'o')\n",
    "plt.xlabel('Eigenvalues for T. Chan Preconditioner')\n",
    "plt.gca().get_yaxis().set_visible(False)\n"
   ]
  },
  {
   "cell_type": "markdown",
   "metadata": {
    "slideshow": {
     "slide_type": "slide"
    }
   },
   "source": [
    "## Прямые методы для Тёплицевых матриц\n",
    "\n",
    "- Идея с предобуславливателем работает для свёрток в 2D/3D, но гораздо хуже.\n",
    "\n",
    "- В одномерном случае возхможно найти прямой метод для Тёплицевых матриц, основываясь на структуре обратной матрицы\n",
    "\n",
    "- Но матрица, обратная к Тёплицевой, не является Тёплицевой!\n",
    "\n",
    "- Что делать?"
   ]
  },
  {
   "cell_type": "markdown",
   "metadata": {
    "slideshow": {
     "slide_type": "slide"
    }
   },
   "source": [
    "## Low displacement rank структура\n",
    "\n",
    "- Тёплицевы матрицы относятся к более широкому классу матриц с **low displacement rank**.\n",
    "\n",
    "- Определим матрицу периодичного сдвига и шкалирования $Z_e$, которая при умножение на вектор $x$ преобразует его по правилу\n",
    "\n",
    "$$Z_e x = \\begin{bmatrix}\n",
    "e x_{n-1} \\\\\n",
    "x_1 \\\\\n",
    "x_2 \\\\\n",
    "\\vdots \\\\\n",
    "x_{n-2}\n",
    "\\end{bmatrix}\n",
    "$$\n",
    "\n",
    "- Какова матричная форма этого линейного оператора?"
   ]
  },
  {
   "cell_type": "markdown",
   "metadata": {
    "slideshow": {
     "slide_type": "slide"
    }
   },
   "source": [
    "## Матрицы сдвига, матрицы смещения и Тёплицевы матрицы\n",
    "\n",
    "Пусть дана Тёплицева матрица $T$, выберем любые $e, f$ такие что $ef \\ne 1$ и определим оператор смещения\n",
    "\n",
    "$$L(T) = Z_e T - T Z_f.$$\n",
    "\n",
    "Для Тёплицевой матрицы $L(T)$ имеет **ранг 2** (только первая строка и последний столбец не нулевые)"
   ]
  },
  {
   "cell_type": "code",
   "execution_count": 7,
   "metadata": {
    "slideshow": {
     "slide_type": "slide"
    }
   },
   "outputs": [
    {
     "name": "stdout",
     "output_type": "stream",
     "text": [
      "[[-1.   0.   0.   0.5  0. ]\n",
      " [ 0.   0.   0.   0.  -0.5]\n",
      " [ 0.   0.   0.   0.   0. ]\n",
      " [ 0.   0.   0.   0.   0. ]\n",
      " [ 0.   0.   0.   0.   1. ]]\n",
      "[1.11803399 1.11803399 0.         0.         0.        ]\n"
     ]
    }
   ],
   "source": [
    "import numpy as np\n",
    "import scipy.linalg as splin\n",
    "n = 5 \n",
    "c = np.zeros(n)\n",
    "c[0] = -2\n",
    "c[1] = 1\n",
    "T = splin.toeplitz(c, c)\n",
    "e = 0.5\n",
    "f = 0.5\n",
    "def Z_shift(e):\n",
    "    return  np.diag(np.ones(n-1), -1)  + e * np.diag(np.ones(1), n-1)\n",
    "\n",
    "Z1 = Z_shift(e)\n",
    "Z2 = Z_shift(f)\n",
    "L = Z1.dot(T) - T.dot(Z2)\n",
    "print(L)\n",
    "s = np.linalg.svd(L, compute_uv=False)\n",
    "print(s)"
   ]
  },
  {
   "cell_type": "markdown",
   "metadata": {
    "slideshow": {
     "slide_type": "slide"
    }
   },
   "source": [
    "- А что насчёт обратной матрицы?\n",
    "\n",
    "- Она также имеет ранг $2$!"
   ]
  },
  {
   "cell_type": "code",
   "execution_count": 6,
   "metadata": {
    "slideshow": {
     "slide_type": "slide"
    }
   },
   "outputs": [
    {
     "data": {
      "text/plain": [
       "array([1.02062073e+00, 1.02062073e+00, 2.60439840e-16, 6.95949729e-17,\n",
       "       2.21601201e-17])"
      ]
     },
     "execution_count": 6,
     "metadata": {},
     "output_type": "execute_result"
    }
   ],
   "source": [
    "import numpy as np\n",
    "import scipy.linalg as splin\n",
    "n = 5 \n",
    "c = np.zeros(n)\n",
    "c[0] = -2\n",
    "c[1] = 1\n",
    "T = splin.toeplitz(c, c)\n",
    "e = 0.5\n",
    "f = 0.5\n",
    "def Z_shift(e):\n",
    "    return  np.diag(np.ones(n-1), -1)  + e * np.diag(np.ones(1), n-1)\n",
    "\n",
    "Z1 = Z_shift(e)\n",
    "Z2 = Z_shift(f)\n",
    "\n",
    "Tinv = np.linalg.inv(T)\n",
    "\n",
    "p1 = Z1.dot(Tinv) - Tinv.dot(Z2)\n",
    "np.linalg.svd(p1)[1]"
   ]
  },
  {
   "cell_type": "markdown",
   "metadata": {
    "slideshow": {
     "slide_type": "slide"
    }
   },
   "source": [
    "## Low displacement rank: определение\n",
    "\n",
    "- Матрица обладает **displacement rank $r$** по отношению к паре генераторов $Z_e, Z_f$, если\n",
    "\n",
    "$$L(T) = Z_e T - T Z_f = GH^{\\top},$$\n",
    "\n",
    "где $G$ размера $n \\times r$ и $H$ – $n \\times r$.\n",
    "\n",
    "- Это похоже на \"дискретную производную\""
   ]
  },
  {
   "cell_type": "markdown",
   "metadata": {
    "slideshow": {
     "slide_type": "slide"
    }
   },
   "source": [
    "## Теорема о структуре обратной матрицы\n",
    "\n",
    "Пусть для $T$ выполнено\n",
    "\n",
    "$$Z_e T - T Z_f = GH ^{\\top},$$\n",
    "\n",
    "и пусть она обратима.\n",
    "\n",
    "Тогда выполнены следующие соотношения\n",
    "\n",
    "$$T^{-1} (Z_e T - T Z_f) T^{-1} = T^{-1} Z_e - Z_f T^{-1} = T^{-1} G H^{\\top} T^{-1},$$\n",
    "\n",
    "то есть обратная матрица имеет **малый displacement rank** с перевёрнутой парой генераторов $Z_e, Z_f$ (почему?)."
   ]
  },
  {
   "cell_type": "markdown",
   "metadata": {
    "slideshow": {
     "slide_type": "slide"
    }
   },
   "source": [
    "## Восстановление матрицы из смещённого представления  (displacement representation)\n",
    "\n",
    "- Нам нужно решить уравнение вида\n",
    "\n",
    "$$Z_e T - T Z_f = GH^{\\top} = B$$\n",
    "\n",
    "для заданной правой части.\n",
    "\n",
    "- Это скрытая система линейных уравнений! (Какой у её размер?)"
   ]
  },
  {
   "cell_type": "markdown",
   "metadata": {
    "slideshow": {
     "slide_type": "slide"
    }
   },
   "source": [
    "## Уравнение Сильвестра\n",
    "\n",
    "- Уравнение выше является частным случаем матричного уравнения Сильвестра, которое в общем виде записывается как\n",
    "\n",
    "$$AX - X B = C,$$\n",
    "\n",
    "где матрицы $A$, $B$ и $C$ даны.\n",
    "\n",
    "- В общем случае это линейная система с $\\mathcal{O}(n^2)$ неизвестными, и ожидаемые затраты на решение равны $\\mathcal{O}(n^6)$.\n",
    "\n",
    "- Однако уравнение Сильвестра можно решить за $\\mathcal{O}(n^3)$ (подробности в следующей лекции о матричных функциях и матричных уравнениях)\n",
    "\n",
    "- Но для конкретных $A, B$ можно лучше!"
   ]
  },
  {
   "cell_type": "markdown",
   "metadata": {
    "slideshow": {
     "slide_type": "slide"
    }
   },
   "source": [
    "## Назад к частному случаю\n",
    "\n",
    "- Для частного случая у нас есть\n",
    "\n",
    "$$Z_e T - T Z_f = GH^{\\top} = B,$$\n",
    "\n",
    "и решение задаётся \n",
    "\n",
    "$$ (e - f) T = \\sum_{j = 1}^r Z_e(g_j) Z_f( J h_j), $$\n",
    "\n",
    "где $Z_e$ – это $e$-масштабируемый циркулянт, а векторы $g_j$, и $h_j$ столбцы матриц $G$ и $H$, а $J$ – **пер-единичная матрица** (у которой единицы стоят на анти-диагонали)."
   ]
  },
  {
   "cell_type": "markdown",
   "metadata": {
    "slideshow": {
     "slide_type": "slide"
    }
   },
   "source": [
    "## Формула Gohberg-Semencul'a\n",
    "\n",
    "- На основе этой идеи и для частного случая $e = 0, f \\rightarrow \\inf$ существует следующая формула для представления обратной матрицы к Тёплицевой матрице в виде суммы двух произведений треугольных Тёплицевых матриц.\n",
    "\n",
    "- Пусть $A$ – Тёплицева матрица и\n",
    "\n",
    "$$A \\begin{bmatrix} x_0 \\\\ x_1 \\\\ \\vdots \\\\ x_n \\end{bmatrix}=\\begin{bmatrix} 1 \\\\ 0 \\\\ \\vdots \\\\ 0 \\end{bmatrix},\n",
    "\\quad \n",
    "A \\begin{bmatrix} y_0 \\\\ y_1 \\\\ \\vdots \\\\ y_n \\end{bmatrix}=\\begin{bmatrix} 0 \\\\ 0 \\\\ \\vdots \\\\ 1 \\end{bmatrix}\n",
    "$$\n",
    "\n",
    "тогда \n",
    "\n",
    "$$A^{-1} = \\frac{1}{x_0} \\begin{bmatrix} x_0 & 0 & \\ldots & 0 \\\\ x_1 & x_0 & 0 & \\ldots \\\\ \\ldots & \\ldots \\\\ x_n & \\ldots & \\ldots & x_0 \\end{bmatrix}\\begin{bmatrix} u_0 & u_1 & \\ldots & 0 \\\\ 0 & u_0 & u_1 & \\ldots \\\\ \\ldots & \\ldots \\\\ 0 & \\ldots & \\ldots & u_0 \\end{bmatrix}-\\frac{1}{x_0} \\begin{bmatrix} 0 & 0 & \\ldots & 0 \\\\ y_0 & 0 & 0 & \\ldots \\\\ y_1 & y_0 & \\ldots  \\\\ \\ldots & \\ldots & \\\\ y_{n-1} & \\ldots & y_0 & 0 \\end{bmatrix}\\begin{bmatrix} 0 & v_0 & \\ldots & 0 \\\\ 0 & 0 & v_0 & v_1 \\\\ \\ldots & \\ldots   \\\\ \\ldots & \\ldots & \\ldots & v_0 \\\\ 0 & \\ldots & \\ldots & 0\\end{bmatrix},$$\n",
    "\n",
    "где $u_y = y_{n-i}, \\quad v_i = x_{n-i}$.\n",
    "\n",
    "- Основной смысл: обратная матрица может быть восстановлена из **первого столбца** и **последнего столбца**."
   ]
  },
  {
   "cell_type": "markdown",
   "metadata": {
    "slideshow": {
     "slide_type": "slide"
    }
   },
   "source": [
    "## Быстрые и супербыстрые прямые методы\n",
    "\n",
    "- Эти формулы позволили получить быстрые $\\mathcal{O}(n^2)$ и супербыстрые $\\mathcal{O}(n \\log n)$ методы для Тёплицевых матриц.\n",
    "\n",
    "- Основная идея здесь – это использовать метод дополнения (augmentation). \n",
    "\n",
    "- Пусть уже вычислена обратная матрица к $(n-1) \\times (n-1)$ блоку Тёплицевой матрицы.\n",
    "\n",
    "- Вам нужно только два вектора, чтобы представить обратную матрицу\n",
    "\n",
    "- Тогда бОльшая матрица может быть представлена в блочном виде.\n",
    "\n",
    "$$T_n = \\begin{bmatrix} T_{n-1} & a \\\\ b^{\\top} & c \\end{bmatrix}.$$\n",
    "\n",
    "- И нужно пересчитать только первый и последний столбец!"
   ]
  },
  {
   "cell_type": "markdown",
   "metadata": {
    "slideshow": {
     "slide_type": "slide"
    }
   },
   "source": [
    "## Пересчёт последнего и первого столбца\n",
    "\n",
    "- Давайте разделим вектор $x$ на два блока\n",
    "\n",
    "$$x = \\begin{bmatrix} x_1 & x_2 \\end{bmatrix}.$$\n",
    "\n",
    "- Тогда\n",
    "\n",
    "$$T_{n-1} x_1 + a x_2 = e_1, \\quad b^{\\top} x_1 + c x_2 = 0.$$\n",
    "\n",
    "- Или\n",
    "\n",
    "$$  x_1 = T^{-1}_{n-1} e_1 - T^{-1}_{n-1} a x_2.$$\n",
    "\n",
    "- Умножение $T^{-1}_{n-1}$ на вектор стоит $\\mathcal{O}(n \\log n)$ операций, поэтому $x_2$ можно восстановить за такое же число операций. Общая сложность тогда составит $\\mathcal{O}(n^2 \\log n)$ операций.\n",
    "\n",
    "- **Супербыстрые алгоритмы** получают через сведения задачи к блочному исключению (в стиле работы с Фурье матрицей)"
   ]
  },
  {
   "cell_type": "markdown",
   "metadata": {
    "slideshow": {
     "slide_type": "slide"
    }
   },
   "source": [
    "## Другие типы матриц с low-displacement rank\n",
    "\n",
    "- Ганкелевы матрицы\n",
    "- Матрицы Коши\n",
    "- Матрицы Вандермонда"
   ]
  },
  {
   "cell_type": "markdown",
   "metadata": {
    "slideshow": {
     "slide_type": "slide"
    }
   },
   "source": [
    "## Резюме\n",
    "\n",
    "- Тёплицевы матрицы, циркулянты, спектральная теорема, быстрое преобразование Фурье (FFT)\n",
    "- Многоуровневые Тёплицевы матрицы\n",
    "- Low displacement rank"
   ]
  },
  {
   "cell_type": "code",
   "execution_count": 21,
   "metadata": {
    "slideshow": {
     "slide_type": "skip"
    }
   },
   "outputs": [
    {
     "data": {
      "text/html": [
       "<link href='http://fonts.googleapis.com/css?family=Fenix' rel='stylesheet' type='text/css'>\n",
       "<link href='http://fonts.googleapis.com/css?family=Alegreya+Sans:100,300,400,500,700,800,900,100italic,300italic,400italic,500italic,700italic,800italic,900italic' rel='stylesheet' type='text/css'>\n",
       "<link href='http://fonts.googleapis.com/css?family=Source+Code+Pro:300,400' rel='stylesheet' type='text/css'>\n",
       "<style>\n",
       "    @font-face {\n",
       "        font-family: \"Computer Modern\";\n",
       "        src: url('http://mirrors.ctan.org/fonts/cm-unicode/fonts/otf/cmunss.otf');\n",
       "    }\n",
       "    div.cell{\n",
       "        /*width:80%;*/\n",
       "        /*margin-left:auto !important;\n",
       "        margin-right:auto;*/\n",
       "    }\n",
       "    h1 {\n",
       "        font-family: 'Alegreya Sans', sans-serif;\n",
       "    }\n",
       "    h2 {\n",
       "        font-family: 'Fenix', serif;\n",
       "    }\n",
       "    h3{\n",
       "\t\tfont-family: 'Fenix', serif;\n",
       "        margin-top:12px;\n",
       "        margin-bottom: 3px;\n",
       "       }\n",
       "\th4{\n",
       "\t\tfont-family: 'Fenix', serif;\n",
       "       }\n",
       "    h5 {\n",
       "        font-family: 'Alegreya Sans', sans-serif;\n",
       "    }\t   \n",
       "    div.text_cell_render{\n",
       "        font-family: 'Alegreya Sans',Computer Modern, \"Helvetica Neue\", Arial, Helvetica, Geneva, sans-serif;\n",
       "        line-height: 1.2;\n",
       "        font-size: 120%;\n",
       "        /*width:70%;*/\n",
       "        /*margin-left:auto;*/\n",
       "        margin-right:auto;\n",
       "    }\n",
       "    .CodeMirror{\n",
       "            font-family: \"Source Code Pro\";\n",
       "\t\t\tfont-size: 90%;\n",
       "    }\n",
       "/*    .prompt{\n",
       "        display: None;\n",
       "    }*/\n",
       "    .text_cell_render h1 {\n",
       "        font-weight: 200;\n",
       "        font-size: 50pt;\n",
       "\t\tline-height: 110%;\n",
       "        color:#CD2305;\n",
       "        margin-bottom: 0.5em;\n",
       "        margin-top: 0.5em;\n",
       "        display: block;\n",
       "    }\t\n",
       "    .text_cell_render h5 {\n",
       "        font-weight: 300;\n",
       "        font-size: 16pt;\n",
       "        color: #CD2305;\n",
       "        font-style: italic;\n",
       "        margin-bottom: .5em;\n",
       "        margin-top: 0.5em;\n",
       "        display: block;\n",
       "    }\n",
       "    \n",
       "    li {\n",
       "        line-height: 110%;\n",
       "    }\n",
       "    .warning{\n",
       "        color: rgb( 240, 20, 20 )\n",
       "        }  \n",
       "\n",
       "</style>\n",
       "\n",
       "<script>\n",
       "    MathJax.Hub.Config({\n",
       "                        TeX: {\n",
       "                           extensions: [\"AMSmath.js\"]\n",
       "                           },\n",
       "                tex2jax: {\n",
       "                    inlineMath: [ ['$','$'], [\"\\\\(\",\"\\\\)\"] ],\n",
       "                    displayMath: [ ['$$','$$'], [\"\\\\[\",\"\\\\]\"] ]\n",
       "                },\n",
       "                displayAlign: 'center', // Change this to 'center' to center equations.\n",
       "                \"HTML-CSS\": {\n",
       "                    styles: {'.MathJax_Display': {\"margin\": 4}}\n",
       "                }\n",
       "        });\n",
       "</script>\n"
      ],
      "text/plain": [
       "<IPython.core.display.HTML object>"
      ]
     },
     "execution_count": 21,
     "metadata": {},
     "output_type": "execute_result"
    }
   ],
   "source": [
    "from IPython.core.display import HTML\n",
    "def css_styling():\n",
    "    styles = open(\"./styles/custom.css\", \"r\").read()\n",
    "    return HTML(styles)\n",
    "css_styling()"
   ]
  }
 ],
 "metadata": {
  "anaconda-cloud": {},
  "celltoolbar": "Slideshow",
  "kernelspec": {
   "display_name": "Python 3",
   "language": "python",
   "name": "python3"
  },
  "language_info": {
   "codemirror_mode": {
    "name": "ipython",
    "version": 3
   },
   "file_extension": ".py",
   "mimetype": "text/x-python",
   "name": "python",
   "nbconvert_exporter": "python",
   "pygments_lexer": "ipython3",
   "version": "3.8.5"
  },
  "nav_menu": {},
  "toc": {
   "navigate_menu": true,
   "number_sections": false,
   "sideBar": true,
   "threshold": 6,
   "toc_cell": false,
   "toc_section_display": "block",
   "toc_window_display": false
  }
 },
 "nbformat": 4,
 "nbformat_minor": 1
}
